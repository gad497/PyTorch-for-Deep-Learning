{
 "cells": [
  {
   "cell_type": "markdown",
   "id": "5bc40ddd-c78e-4953-8104-f9491a3cd4b6",
   "metadata": {},
   "source": [
    "# Experiment Tracing\n",
    "Experiment Tracking helps figure out what works and what doesn't"
   ]
  },
  {
   "cell_type": "markdown",
   "id": "8834b5ce-cf76-44cd-99d8-e6f032a82874",
   "metadata": {},
   "source": [
    "## 0. Getting Setup"
   ]
  },
  {
   "cell_type": "code",
   "execution_count": 1,
   "id": "0bb1918d-9ba0-4a15-9d05-b4eab653fade",
   "metadata": {},
   "outputs": [],
   "source": [
    "import torch\n",
    "import torchvision\n",
    "import matplotlib.pyplot as plt\n",
    "from torch import nn\n",
    "from torchvision import transforms\n",
    "from torchinfo import summary\n",
    "from going_modular import data_setup, engine"
   ]
  },
  {
   "cell_type": "code",
   "execution_count": 2,
   "id": "12d5bd1a-000f-4a48-bbac-b2b3ca918cf2",
   "metadata": {},
   "outputs": [
    {
     "data": {
      "text/plain": [
       "'cuda'"
      ]
     },
     "execution_count": 2,
     "metadata": {},
     "output_type": "execute_result"
    }
   ],
   "source": [
    "device = \"cuda\" if torch.cuda.is_available() else \"cpu\"\n",
    "device"
   ]
  },
  {
   "cell_type": "code",
   "execution_count": 3,
   "id": "77df5cdf-a833-400b-b918-143315afebdc",
   "metadata": {},
   "outputs": [],
   "source": [
    "def set_seeds(seed: int=42):\n",
    "    \"\"\"Sets random seed for torch operations\"\"\"\n",
    "    torch.manual_seed(seed)\n",
    "    torch.cuda.manual_seed(seed)"
   ]
  },
  {
   "cell_type": "markdown",
   "id": "990d26da-402a-46ef-b8b6-c51a5bad6d14",
   "metadata": {},
   "source": [
    "## 1. Get Data"
   ]
  },
  {
   "cell_type": "code",
   "execution_count": 4,
   "id": "850296d0-c644-44ea-b354-40298567c495",
   "metadata": {},
   "outputs": [
    {
     "name": "stdout",
     "output_type": "stream",
     "text": [
      "[INFO] data\\pizza_steak_sushi directory exists. skipping download...\n"
     ]
    },
    {
     "data": {
      "text/plain": [
       "WindowsPath('data/pizza_steak_sushi')"
      ]
     },
     "execution_count": 4,
     "metadata": {},
     "output_type": "execute_result"
    }
   ],
   "source": [
    "import os\n",
    "import zipfile\n",
    "from pathlib import Path\n",
    "import requests\n",
    "\n",
    "def download_data(source: str, destination: str, remove_source: bool = True) -> Path:\n",
    "    \"\"\"Downloads a zipped dataset from the source and unzips to destination\"\"\"\n",
    "    data_path = Path(\"data\")\n",
    "    image_path = data_path/destination\n",
    "    if image_path.is_dir():\n",
    "        print(f\"[INFO] {image_path} directory exists. skipping download...\")\n",
    "        target_file = Path(source).name\n",
    "    else:\n",
    "        print(f\"[INFO] Did not find {image_path} directory, creating one...\")\n",
    "        image_path.mkdir(parents=True, exist_ok=True)\n",
    "        target_file = Path(source).name\n",
    "        with open(data_path/target_file,\"wb\") as f:\n",
    "            request = requests.get(source)\n",
    "            print(f\"[INFO] Downloading {target_file} from {source}...\")\n",
    "            f.write(request.content)\n",
    "        with zipfile.ZipFile(data_path/target_file,\"r\") as zip_ref:\n",
    "            print(f\"[INFO] Unzipping {target_file} data...\")\n",
    "            zip_ref.extractall(image_path)\n",
    "        if remove_source:\n",
    "            os.remove(data_path/target_file)\n",
    "    return image_path\n",
    "\n",
    "image_path = download_data(source=\"https://github.com/mrdbourke/pytorch-deep-learning/raw/main/data/pizza_steak_sushi.zip\",\n",
    "                           destination=\"pizza_steak_sushi\")\n",
    "image_path"
   ]
  },
  {
   "cell_type": "markdown",
   "id": "ee5e9ecb-bf7e-459a-bd28-17836161523c",
   "metadata": {},
   "source": [
    "## 2. Create Datasets and DataLoaders"
   ]
  },
  {
   "cell_type": "code",
   "execution_count": 5,
   "id": "7fc700b9-d73a-4999-bff2-55369843e47a",
   "metadata": {},
   "outputs": [
    {
     "name": "stdout",
     "output_type": "stream",
     "text": [
      "Automatically created transforms: ImageClassification(\n",
      "    crop_size=[224]\n",
      "    resize_size=[256]\n",
      "    mean=[0.485, 0.456, 0.406]\n",
      "    std=[0.229, 0.224, 0.225]\n",
      "    interpolation=InterpolationMode.BICUBIC\n",
      ")\n"
     ]
    },
    {
     "data": {
      "text/plain": [
       "(<torch.utils.data.dataloader.DataLoader at 0x1b469f48eb0>,\n",
       " <torch.utils.data.dataloader.DataLoader at 0x1b469f49d20>)"
      ]
     },
     "execution_count": 5,
     "metadata": {},
     "output_type": "execute_result"
    }
   ],
   "source": [
    "train_dir = image_path/\"train\"\n",
    "test_dir = image_path/\"test\"\n",
    "weights = torchvision.models.EfficientNet_B0_Weights.DEFAULT\n",
    "automatic_transforms = weights.transforms()\n",
    "print(f\"Automatically created transforms: {automatic_transforms}\")\n",
    "train_dataloader, test_dataloader, class_names = data_setup.create_dataloader(train_dir=train_dir,\n",
    "                                                                               test_dir=test_dir,\n",
    "                                                                               transform=automatic_transforms,\n",
    "                                                                               batch_size=32)\n",
    "train_dataloader, test_dataloader"
   ]
  },
  {
   "cell_type": "markdown",
   "id": "7e777fd5-6fbe-425e-8d37-22c133352c14",
   "metadata": {},
   "source": [
    "## 3. Getting a pretrained model, freezing the base layers and changing the classifier head"
   ]
  },
  {
   "cell_type": "code",
   "execution_count": 6,
   "id": "a9e7e08e-693f-41ca-8c3e-e0841c0b1bb2",
   "metadata": {},
   "outputs": [],
   "source": [
    "model = torchvision.models.efficientnet_b0(weights=weights).to(device)"
   ]
  },
  {
   "cell_type": "code",
   "execution_count": 7,
   "id": "b3af79e8-7e76-4c0b-a9d6-3b84ced60f36",
   "metadata": {},
   "outputs": [
    {
     "data": {
      "text/plain": [
       "====================================================================================================\n",
       "Layer (type (var_name))                                      Input Shape Output Shape Param #    Trainable\n",
       "====================================================================================================\n",
       "EfficientNet (EfficientNet)                                  [32, 3, 224, 224] [32, 1000] --         True\n",
       "├─Sequential (features)                                      [32, 3, 224, 224] [32, 1280, 7, 7] --         True\n",
       "│    └─Conv2dNormActivation (0)                              [32, 3, 224, 224] [32, 32, 112, 112] --         True\n",
       "│    │    └─Conv2d (0)                                       [32, 3, 224, 224] [32, 32, 112, 112] 864        True\n",
       "│    │    └─BatchNorm2d (1)                                  [32, 32, 112, 112] [32, 32, 112, 112] 64         True\n",
       "│    │    └─SiLU (2)                                         [32, 32, 112, 112] [32, 32, 112, 112] --         --\n",
       "│    └─Sequential (1)                                        [32, 32, 112, 112] [32, 16, 112, 112] --         True\n",
       "│    │    └─MBConv (0)                                       [32, 32, 112, 112] [32, 16, 112, 112] 1,448      True\n",
       "│    └─Sequential (2)                                        [32, 16, 112, 112] [32, 24, 56, 56] --         True\n",
       "│    │    └─MBConv (0)                                       [32, 16, 112, 112] [32, 24, 56, 56] 6,004      True\n",
       "│    │    └─MBConv (1)                                       [32, 24, 56, 56] [32, 24, 56, 56] 10,710     True\n",
       "│    └─Sequential (3)                                        [32, 24, 56, 56] [32, 40, 28, 28] --         True\n",
       "│    │    └─MBConv (0)                                       [32, 24, 56, 56] [32, 40, 28, 28] 15,350     True\n",
       "│    │    └─MBConv (1)                                       [32, 40, 28, 28] [32, 40, 28, 28] 31,290     True\n",
       "│    └─Sequential (4)                                        [32, 40, 28, 28] [32, 80, 14, 14] --         True\n",
       "│    │    └─MBConv (0)                                       [32, 40, 28, 28] [32, 80, 14, 14] 37,130     True\n",
       "│    │    └─MBConv (1)                                       [32, 80, 14, 14] [32, 80, 14, 14] 102,900    True\n",
       "│    │    └─MBConv (2)                                       [32, 80, 14, 14] [32, 80, 14, 14] 102,900    True\n",
       "│    └─Sequential (5)                                        [32, 80, 14, 14] [32, 112, 14, 14] --         True\n",
       "│    │    └─MBConv (0)                                       [32, 80, 14, 14] [32, 112, 14, 14] 126,004    True\n",
       "│    │    └─MBConv (1)                                       [32, 112, 14, 14] [32, 112, 14, 14] 208,572    True\n",
       "│    │    └─MBConv (2)                                       [32, 112, 14, 14] [32, 112, 14, 14] 208,572    True\n",
       "│    └─Sequential (6)                                        [32, 112, 14, 14] [32, 192, 7, 7] --         True\n",
       "│    │    └─MBConv (0)                                       [32, 112, 14, 14] [32, 192, 7, 7] 262,492    True\n",
       "│    │    └─MBConv (1)                                       [32, 192, 7, 7] [32, 192, 7, 7] 587,952    True\n",
       "│    │    └─MBConv (2)                                       [32, 192, 7, 7] [32, 192, 7, 7] 587,952    True\n",
       "│    │    └─MBConv (3)                                       [32, 192, 7, 7] [32, 192, 7, 7] 587,952    True\n",
       "│    └─Sequential (7)                                        [32, 192, 7, 7] [32, 320, 7, 7] --         True\n",
       "│    │    └─MBConv (0)                                       [32, 192, 7, 7] [32, 320, 7, 7] 717,232    True\n",
       "│    └─Conv2dNormActivation (8)                              [32, 320, 7, 7] [32, 1280, 7, 7] --         True\n",
       "│    │    └─Conv2d (0)                                       [32, 320, 7, 7] [32, 1280, 7, 7] 409,600    True\n",
       "│    │    └─BatchNorm2d (1)                                  [32, 1280, 7, 7] [32, 1280, 7, 7] 2,560      True\n",
       "│    │    └─SiLU (2)                                         [32, 1280, 7, 7] [32, 1280, 7, 7] --         --\n",
       "├─AdaptiveAvgPool2d (avgpool)                                [32, 1280, 7, 7] [32, 1280, 1, 1] --         --\n",
       "├─Sequential (classifier)                                    [32, 1280] [32, 1000] --         True\n",
       "│    └─Dropout (0)                                           [32, 1280] [32, 1280] --         --\n",
       "│    └─Linear (1)                                            [32, 1280] [32, 1000] 1,281,000  True\n",
       "====================================================================================================\n",
       "Total params: 5,288,548\n",
       "Trainable params: 5,288,548\n",
       "Non-trainable params: 0\n",
       "Total mult-adds (G): 12.35\n",
       "====================================================================================================\n",
       "Input size (MB): 19.27\n",
       "Forward/backward pass size (MB): 3452.35\n",
       "Params size (MB): 21.15\n",
       "Estimated Total Size (MB): 3492.77\n",
       "===================================================================================================="
      ]
     },
     "execution_count": 7,
     "metadata": {},
     "output_type": "execute_result"
    }
   ],
   "source": [
    "summary(model, \n",
    "        input_size=(32,3,224,224),\n",
    "        col_names=[\"input_size\",\"output_size\",\"num_params\",\"trainable\"],\n",
    "        col_width=10,\n",
    "        row_settings=[\"var_names\"])"
   ]
  },
  {
   "cell_type": "code",
   "execution_count": 8,
   "id": "86d4cb4c-8ee6-41cf-b1b5-d2e10629f527",
   "metadata": {},
   "outputs": [],
   "source": [
    "for param in model.features.parameters():\n",
    "    param.requires_grad = False\n",
    "\n",
    "set_seeds()\n",
    "model.classifier = torch.nn.Sequential(nn.Dropout(p=0.2,inplace=True),\n",
    "                                       nn.Linear(in_features=1280, out_features=len(class_names),bias=True)).to(device)\n"
   ]
  },
  {
   "cell_type": "markdown",
   "id": "3f7cb329-bb45-4986-9672-79b9303fa475",
   "metadata": {},
   "source": [
    "## 4. Train model and track results"
   ]
  },
  {
   "cell_type": "code",
   "execution_count": 9,
   "id": "340d607e-836c-46be-895f-252fda120c49",
   "metadata": {},
   "outputs": [],
   "source": [
    "loss_fn = nn.CrossEntropyLoss()\n",
    "optimizer = torch.optim.Adam(model.parameters(), lr=0.001)"
   ]
  },
  {
   "cell_type": "code",
   "execution_count": 10,
   "id": "7fd45572-90a2-4743-a1b2-895b9bb9903f",
   "metadata": {},
   "outputs": [],
   "source": [
    "from torch.utils.tensorboard import SummaryWriter\n",
    "writer = SummaryWriter()"
   ]
  },
  {
   "cell_type": "code",
   "execution_count": 11,
   "id": "0166d972-a661-427d-a940-9017959864d3",
   "metadata": {},
   "outputs": [],
   "source": [
    "from typing import Dict, List\n",
    "from tqdm import tqdm\n",
    "from going_modular.engine import train_step, test_step\n",
    "\n",
    "def train(model: torch.nn.Module,\n",
    "          train_dataloader: torch.utils.data.DataLoader,\n",
    "          test_dataloader: torch.utils.data.DataLoader,\n",
    "          optimizer: torch.optim.Optimizer,\n",
    "          loss_fn: torch.nn.Module,\n",
    "          epochs: int,\n",
    "          device: torch.device=device) -> Dict[str,List]:\n",
    "    results = {\"train_loss\": [], \"train_acc\": [], \"test_loss\": [], \"test_acc\": []}\n",
    "    for epoch in tqdm(range(epochs)):\n",
    "        train_loss, train_acc = train_step(model=model,\n",
    "                                           dataloader=train_dataloader,\n",
    "                                           loss_fn=loss_fn,\n",
    "                                           optimizer=optimizer,\n",
    "                                           device=device)\n",
    "        test_loss, test_acc = test_step(model=model,\n",
    "                                        dataloader=test_dataloader,\n",
    "                                        loss_fn=loss_fn,\n",
    "                                        device=device)\n",
    "        print(f\"Epoch: {epoch+1} | train_loss: {train_loss:.4f} | train_acc: {train_acc:.4f} | test_loss: {test_loss:.4f} | test_acc: {test_acc:.4f}\")\n",
    "\n",
    "        results[\"train_loss\"].append(train_loss)\n",
    "        results[\"train_acc\"].append(train_acc)\n",
    "        results[\"test_loss\"].append(test_loss)\n",
    "        results[\"test_acc\"].append(test_acc)\n",
    "\n",
    "        writer.add_scalars(main_tag=\"Accuracy\",\n",
    "                           tag_scalar_dict={\"train_acc\": train_acc,\n",
    "                                            \"test_acc\": test_acc},\n",
    "                           global_step=epoch)\n",
    "        writer.add_graph(model=model,\n",
    "                         input_to_model=torch.randn(32,3,224,224).to(device))\n",
    "\n",
    "    writer.close()\n",
    "    return results"
   ]
  },
  {
   "cell_type": "code",
   "execution_count": 12,
   "id": "e3d996fd-eef3-4d30-8ead-c883b180462f",
   "metadata": {},
   "outputs": [
    {
     "name": "stderr",
     "output_type": "stream",
     "text": [
      "  0%|                                                                                            | 0/5 [00:00<?, ?it/s]"
     ]
    },
    {
     "name": "stdout",
     "output_type": "stream",
     "text": [
      "Epoch: 1 | train_loss: 1.0924 | train_acc: 0.3984 | test_loss: 0.9132 | test_acc: 0.5398\n"
     ]
    },
    {
     "name": "stderr",
     "output_type": "stream",
     "text": [
      " 20%|████████████████▊                                                                   | 1/5 [00:18<01:13, 18.37s/it]"
     ]
    },
    {
     "name": "stdout",
     "output_type": "stream",
     "text": [
      "Epoch: 2 | train_loss: 0.8975 | train_acc: 0.6562 | test_loss: 0.7837 | test_acc: 0.8561\n"
     ]
    },
    {
     "name": "stderr",
     "output_type": "stream",
     "text": [
      " 40%|█████████████████████████████████▌                                                  | 2/5 [00:36<00:54, 18.14s/it]"
     ]
    },
    {
     "name": "stdout",
     "output_type": "stream",
     "text": [
      "Epoch: 3 | train_loss: 0.8038 | train_acc: 0.7461 | test_loss: 0.6723 | test_acc: 0.8864\n"
     ]
    },
    {
     "name": "stderr",
     "output_type": "stream",
     "text": [
      " 60%|██████████████████████████████████████████████████▍                                 | 3/5 [00:54<00:36, 18.21s/it]"
     ]
    },
    {
     "name": "stdout",
     "output_type": "stream",
     "text": [
      "Epoch: 4 | train_loss: 0.6770 | train_acc: 0.8516 | test_loss: 0.6698 | test_acc: 0.8049\n"
     ]
    },
    {
     "name": "stderr",
     "output_type": "stream",
     "text": [
      " 80%|███████████████████████████████████████████████████████████████████▏                | 4/5 [01:11<00:17, 17.83s/it]"
     ]
    },
    {
     "name": "stdout",
     "output_type": "stream",
     "text": [
      "Epoch: 5 | train_loss: 0.7065 | train_acc: 0.7188 | test_loss: 0.6746 | test_acc: 0.7737\n"
     ]
    },
    {
     "name": "stderr",
     "output_type": "stream",
     "text": [
      "100%|████████████████████████████████████████████████████████████████████████████████████| 5/5 [01:29<00:00, 17.84s/it]\n"
     ]
    }
   ],
   "source": [
    "set_seeds()\n",
    "results = train(model=model,\n",
    "                train_dataloader=train_dataloader,\n",
    "                test_dataloader=test_dataloader,\n",
    "                optimizer=optimizer,\n",
    "                loss_fn=loss_fn,\n",
    "                epochs=5,\n",
    "                device=device)"
   ]
  },
  {
   "cell_type": "code",
   "execution_count": 13,
   "id": "cedc582f-1770-43b0-bb88-956f724de08d",
   "metadata": {},
   "outputs": [
    {
     "data": {
      "text/plain": [
       "{'train_loss': [1.0923891514539719,\n",
       "  0.8974885493516922,\n",
       "  0.8037762567400932,\n",
       "  0.6769649833440781,\n",
       "  0.7064977586269379],\n",
       " 'train_acc': [0.3984375, 0.65625, 0.74609375, 0.8515625, 0.71875],\n",
       " 'test_loss': [0.9132375717163086,\n",
       "  0.7837276458740234,\n",
       "  0.672258714834849,\n",
       "  0.6698037981987,\n",
       "  0.6745620767275492],\n",
       " 'test_acc': [0.5397727272727273,\n",
       "  0.8560606060606061,\n",
       "  0.8863636363636364,\n",
       "  0.8049242424242425,\n",
       "  0.7736742424242425]}"
      ]
     },
     "execution_count": 13,
     "metadata": {},
     "output_type": "execute_result"
    }
   ],
   "source": [
    "results"
   ]
  },
  {
   "cell_type": "markdown",
   "id": "89be0920-c476-4b64-8525-406a363155cf",
   "metadata": {},
   "source": [
    "## 5. View our model's results in TensorBoard"
   ]
  },
  {
   "cell_type": "code",
   "execution_count": 14,
   "id": "1ce4a8ba-91fa-45eb-a253-0ccad00744a5",
   "metadata": {},
   "outputs": [
    {
     "data": {
      "text/plain": [
       "Reusing TensorBoard on port 6006 (pid 5792), started 20:23:02 ago. (Use '!kill 5792' to kill it.)"
      ]
     },
     "metadata": {},
     "output_type": "display_data"
    },
    {
     "data": {
      "text/html": [
       "\n",
       "      <iframe id=\"tensorboard-frame-e62da738e42345cc\" width=\"100%\" height=\"800\" frameborder=\"0\">\n",
       "      </iframe>\n",
       "      <script>\n",
       "        (function() {\n",
       "          const frame = document.getElementById(\"tensorboard-frame-e62da738e42345cc\");\n",
       "          const url = new URL(\"/\", window.location);\n",
       "          const port = 6006;\n",
       "          if (port) {\n",
       "            url.port = port;\n",
       "          }\n",
       "          frame.src = url;\n",
       "        })();\n",
       "      </script>\n",
       "    "
      ],
      "text/plain": [
       "<IPython.core.display.HTML object>"
      ]
     },
     "metadata": {},
     "output_type": "display_data"
    }
   ],
   "source": [
    "# %load_ext tensorboard\n",
    "# %tensorboard --logdir runs"
   ]
  },
  {
   "cell_type": "markdown",
   "id": "9b809b4c-173f-446b-9d80-897316d18978",
   "metadata": {},
   "source": [
    "## 6. Create a helper function to build `SummaryWriter()` instances"
   ]
  },
  {
   "cell_type": "code",
   "execution_count": 15,
   "id": "3d64946d-4ff4-4b86-afea-b08ac831b713",
   "metadata": {},
   "outputs": [],
   "source": [
    "def create_writer(experiment_name: str,\n",
    "                  model_name: str,\n",
    "                  extra: str=None) -> torch.utils.tensorboard.writer.SummaryWriter():\n",
    "    from datetime import datetime\n",
    "    import os\n",
    "    timestamp = datetime.now().strftime(\"%Y-%m-%d\")\n",
    "    if extra:\n",
    "        log_dir = os.path.join(\"runs\", timestamp, experiment_name, model_name, extra)\n",
    "    else:\n",
    "        log_dir = os.path.join(\"runs\", timestamp, experiment_name, model_name)\n",
    "    print(f\"[INFO] Created SummaryWriter, saving to: {log_dir}...\")\n",
    "    return SummaryWriter(log_dir=log_dir)"
   ]
  },
  {
   "cell_type": "code",
   "execution_count": 16,
   "id": "b4f849b4-977a-4eb5-92a7-b968fe3dbc95",
   "metadata": {},
   "outputs": [],
   "source": [
    "from typing import Dict, List\n",
    "from tqdm import tqdm\n",
    "\n",
    "def train(model: torch.nn.Module,\n",
    "          train_dataloader: torch.utils.data.DataLoader,\n",
    "          test_dataloader: torch.utils.data.DataLoader,\n",
    "          optimizer: torch.optim.Optimizer,\n",
    "          loss_fn: torch.nn.Module,\n",
    "          epochs: int,\n",
    "          device: torch.device,\n",
    "          writer: torch.utils.tensorboard.writer.SummaryWriter) -> Dict[str, List]:\n",
    "    results = {\"train_loss\": [],\n",
    "               \"train_acc\": [],\n",
    "               \"test_loss\": [],\n",
    "               \"test_acc\": []}\n",
    "    for epoch in tqdm(range(epochs)):\n",
    "        train_loss, train_acc = train_step(model=model,\n",
    "                                           dataloader=train_dataloader,\n",
    "                                           loss_fn=loss_fn,\n",
    "                                           optimizer=optimizer,\n",
    "                                           device=device)\n",
    "        test_loss, test_acc = test_step(model=model,\n",
    "                                        dataloader=test_dataloader,\n",
    "                                        loss_fn=loss_fn,\n",
    "                                        device=device)\n",
    "        print(f\"Epoch: {epoch+1} | train loss: {train_loss:.4f} | train acc: {train_acc:.4f} | test loss: {test_loss:.4f} | test acc: {test_acc:.4f}\")\n",
    "        results[\"train_loss\"].append(train_loss)\n",
    "        results[\"train_acc\"].append(train_acc)\n",
    "        results[\"test_loss\"].append(test_loss)\n",
    "        results[\"test_acc\"].append(test_acc)\n",
    "        if writer:\n",
    "            writer.add_scalars(main_tag=\"Loss\",\n",
    "                               tag_scalar_dict={\"train_loss\": train_loss,\n",
    "                                                \"test_loss\": test_loss},\n",
    "                               global_step=epoch)\n",
    "            writer.add_scalars(main_tag=\"Accuracy\",\n",
    "                               tag_scalar_dict={\"train_acc\": train_acc,\n",
    "                                                \"test_acc\": test_acc},\n",
    "                                global_step=epoch)\n",
    "            writer.close()\n",
    "        else:\n",
    "            pass\n",
    "    return results"
   ]
  },
  {
   "cell_type": "markdown",
   "id": "88d0d532-439a-459d-a1fb-25232faaf893",
   "metadata": {},
   "source": [
    "## 7. Setting up series of modelling experiments"
   ]
  },
  {
   "cell_type": "code",
   "execution_count": 17,
   "id": "84a9c94f-8d70-4597-9df1-a0a52c771ad6",
   "metadata": {},
   "outputs": [
    {
     "name": "stdout",
     "output_type": "stream",
     "text": [
      "[INFO] data\\pizza_steak_sushi directory exists. skipping download...\n",
      "[INFO] Did not find data\\pizza_steak_sushi_20_percent directory, creating one...\n",
      "[INFO] Downloading pizza_steak_sushi_20_percent.zip from https://github.com/mrdbourke/pytorch-deep-learning/raw/main/data/pizza_steak_sushi_20_percent.zip...\n",
      "[INFO] Unzipping pizza_steak_sushi_20_percent.zip data...\n"
     ]
    }
   ],
   "source": [
    "data_10_percent_path = download_data(source=\"https://github.com/mrdbourke/pytorch-deep-learning/raw/main/data/pizza_steak_sushi.zip\",\n",
    "                                     destination=\"pizza_steak_sushi\")\n",
    "data_20_percent_path = download_data(source=\"https://github.com/mrdbourke/pytorch-deep-learning/raw/main/data/pizza_steak_sushi_20_percent.zip\",\n",
    "                                     destination=\"pizza_steak_sushi_20_percent\")"
   ]
  },
  {
   "cell_type": "code",
   "execution_count": 18,
   "id": "79b188d0-1207-47da-b39a-a924b03b29c3",
   "metadata": {},
   "outputs": [
    {
     "name": "stdout",
     "output_type": "stream",
     "text": [
      "Training directory 10%: data\\pizza_steak_sushi\\train\n",
      "Training directory 20%: data\\pizza_steak_sushi_20_percent\\train\n",
      "Testing directory: data\\pizza_steak_sushi\\test\n"
     ]
    }
   ],
   "source": [
    "train_dir_10_percent = data_10_percent_path / \"train\"\n",
    "train_dir_20_percent = data_20_percent_path / \"train\"\n",
    "test_dir = data_10_percent_path / \"test\"\n",
    "print(f\"Training directory 10%: {train_dir_10_percent}\")\n",
    "print(f\"Training directory 20%: {train_dir_20_percent}\")\n",
    "print(f\"Testing directory: {test_dir}\")"
   ]
  },
  {
   "cell_type": "code",
   "execution_count": 19,
   "id": "4fec44a5-858c-4514-adc1-1f4f0621b98f",
   "metadata": {},
   "outputs": [],
   "source": [
    "normalize = transforms.Normalize(mean=[0.485, 0.456, 0.406], \n",
    "                                 std=[0.229, 0.224, 0.225])\n",
    "simple_transform = transforms.Compose([\n",
    "    transforms.Resize((224,224)),\n",
    "    transforms.ToTensor(),\n",
    "    normalize\n",
    "])"
   ]
  },
  {
   "cell_type": "code",
   "execution_count": 21,
   "id": "5a19f2e8-6e2d-4ee9-ab03-3307795675a9",
   "metadata": {},
   "outputs": [
    {
     "name": "stdout",
     "output_type": "stream",
     "text": [
      "Number of batches of size 32 in 10 percent training data: 8\n",
      "Number of batches of size 32 in 20 percent training data: 15\n",
      "Number of batches of size 32 in testing data: 3 (all experiments will use the same test set)\n",
      "Number of classes: 3, class names: ['pizza', 'steak', 'sushi']\n"
     ]
    }
   ],
   "source": [
    "BATCH_SIZE = 32\n",
    "train_dataloader_10_percent, test_dataloader, class_names = data_setup.create_dataloader(train_dir=train_dir_10_percent,\n",
    "                                                                                          test_dir=test_dir,\n",
    "                                                                                          transform=simple_transform,\n",
    "                                                                                          batch_size=BATCH_SIZE\n",
    "                                                                                         )\n",
    "train_dataloader_20_percent, _,_ = data_setup.create_dataloader(train_dir=train_dir_20_percent,\n",
    "                                                                 test_dir=test_dir,\n",
    "                                                                 transform=simple_transform,\n",
    "                                                                 batch_size=BATCH_SIZE\n",
    "                                                                )\n",
    "print(f\"Number of batches of size {BATCH_SIZE} in 10 percent training data: {len(train_dataloader_10_percent)}\")\n",
    "print(f\"Number of batches of size {BATCH_SIZE} in 20 percent training data: {len(train_dataloader_20_percent)}\")\n",
    "print(f\"Number of batches of size {BATCH_SIZE} in testing data: {len(test_dataloader)} (all experiments will use the same test set)\")\n",
    "print(f\"Number of classes: {len(class_names)}, class names: {class_names}\")"
   ]
  },
  {
   "cell_type": "code",
   "execution_count": 22,
   "id": "97d45de1-e045-450e-beab-3648f636c54a",
   "metadata": {},
   "outputs": [
    {
     "name": "stderr",
     "output_type": "stream",
     "text": [
      "Downloading: \"https://download.pytorch.org/models/efficientnet_b2_rwightman-c35c1473.pth\" to C:\\Users\\Glen Dsilva/.cache\\torch\\hub\\checkpoints\\efficientnet_b2_rwightman-c35c1473.pth\n",
      "100%|█████████████████████████████████████████████████████████████████████████████| 35.2M/35.2M [00:30<00:00, 1.21MB/s]\n"
     ]
    }
   ],
   "source": [
    "effnetb2_weights = torchvision.models.EfficientNet_B2_Weights.DEFAULT\n",
    "effnetb2 = torchvision.models.efficientnet_b2(weights=effnetb2_weights)"
   ]
  },
  {
   "cell_type": "code",
   "execution_count": 23,
   "id": "d7f9d60b-1177-4b38-b98e-12e203bfa708",
   "metadata": {},
   "outputs": [
    {
     "data": {
      "text/plain": [
       "============================================================================================================================================\n",
       "Layer (type (var_name))                                      Input Shape          Output Shape         Param #              Trainable\n",
       "============================================================================================================================================\n",
       "EfficientNet (EfficientNet)                                  [32, 3, 224, 224]    [32, 1000]           --                   True\n",
       "├─Sequential (features)                                      [32, 3, 224, 224]    [32, 1408, 7, 7]     --                   True\n",
       "│    └─Conv2dNormActivation (0)                              [32, 3, 224, 224]    [32, 32, 112, 112]   --                   True\n",
       "│    │    └─Conv2d (0)                                       [32, 3, 224, 224]    [32, 32, 112, 112]   864                  True\n",
       "│    │    └─BatchNorm2d (1)                                  [32, 32, 112, 112]   [32, 32, 112, 112]   64                   True\n",
       "│    │    └─SiLU (2)                                         [32, 32, 112, 112]   [32, 32, 112, 112]   --                   --\n",
       "│    └─Sequential (1)                                        [32, 32, 112, 112]   [32, 16, 112, 112]   --                   True\n",
       "│    │    └─MBConv (0)                                       [32, 32, 112, 112]   [32, 16, 112, 112]   1,448                True\n",
       "│    │    └─MBConv (1)                                       [32, 16, 112, 112]   [32, 16, 112, 112]   612                  True\n",
       "│    └─Sequential (2)                                        [32, 16, 112, 112]   [32, 24, 56, 56]     --                   True\n",
       "│    │    └─MBConv (0)                                       [32, 16, 112, 112]   [32, 24, 56, 56]     6,004                True\n",
       "│    │    └─MBConv (1)                                       [32, 24, 56, 56]     [32, 24, 56, 56]     10,710               True\n",
       "│    │    └─MBConv (2)                                       [32, 24, 56, 56]     [32, 24, 56, 56]     10,710               True\n",
       "│    └─Sequential (3)                                        [32, 24, 56, 56]     [32, 48, 28, 28]     --                   True\n",
       "│    │    └─MBConv (0)                                       [32, 24, 56, 56]     [32, 48, 28, 28]     16,518               True\n",
       "│    │    └─MBConv (1)                                       [32, 48, 28, 28]     [32, 48, 28, 28]     43,308               True\n",
       "│    │    └─MBConv (2)                                       [32, 48, 28, 28]     [32, 48, 28, 28]     43,308               True\n",
       "│    └─Sequential (4)                                        [32, 48, 28, 28]     [32, 88, 14, 14]     --                   True\n",
       "│    │    └─MBConv (0)                                       [32, 48, 28, 28]     [32, 88, 14, 14]     50,300               True\n",
       "│    │    └─MBConv (1)                                       [32, 88, 14, 14]     [32, 88, 14, 14]     123,750              True\n",
       "│    │    └─MBConv (2)                                       [32, 88, 14, 14]     [32, 88, 14, 14]     123,750              True\n",
       "│    │    └─MBConv (3)                                       [32, 88, 14, 14]     [32, 88, 14, 14]     123,750              True\n",
       "│    └─Sequential (5)                                        [32, 88, 14, 14]     [32, 120, 14, 14]    --                   True\n",
       "│    │    └─MBConv (0)                                       [32, 88, 14, 14]     [32, 120, 14, 14]    149,158              True\n",
       "│    │    └─MBConv (1)                                       [32, 120, 14, 14]    [32, 120, 14, 14]    237,870              True\n",
       "│    │    └─MBConv (2)                                       [32, 120, 14, 14]    [32, 120, 14, 14]    237,870              True\n",
       "│    │    └─MBConv (3)                                       [32, 120, 14, 14]    [32, 120, 14, 14]    237,870              True\n",
       "│    └─Sequential (6)                                        [32, 120, 14, 14]    [32, 208, 7, 7]      --                   True\n",
       "│    │    └─MBConv (0)                                       [32, 120, 14, 14]    [32, 208, 7, 7]      301,406              True\n",
       "│    │    └─MBConv (1)                                       [32, 208, 7, 7]      [32, 208, 7, 7]      686,868              True\n",
       "│    │    └─MBConv (2)                                       [32, 208, 7, 7]      [32, 208, 7, 7]      686,868              True\n",
       "│    │    └─MBConv (3)                                       [32, 208, 7, 7]      [32, 208, 7, 7]      686,868              True\n",
       "│    │    └─MBConv (4)                                       [32, 208, 7, 7]      [32, 208, 7, 7]      686,868              True\n",
       "│    └─Sequential (7)                                        [32, 208, 7, 7]      [32, 352, 7, 7]      --                   True\n",
       "│    │    └─MBConv (0)                                       [32, 208, 7, 7]      [32, 352, 7, 7]      846,900              True\n",
       "│    │    └─MBConv (1)                                       [32, 352, 7, 7]      [32, 352, 7, 7]      1,888,920            True\n",
       "│    └─Conv2dNormActivation (8)                              [32, 352, 7, 7]      [32, 1408, 7, 7]     --                   True\n",
       "│    │    └─Conv2d (0)                                       [32, 352, 7, 7]      [32, 1408, 7, 7]     495,616              True\n",
       "│    │    └─BatchNorm2d (1)                                  [32, 1408, 7, 7]     [32, 1408, 7, 7]     2,816                True\n",
       "│    │    └─SiLU (2)                                         [32, 1408, 7, 7]     [32, 1408, 7, 7]     --                   --\n",
       "├─AdaptiveAvgPool2d (avgpool)                                [32, 1408, 7, 7]     [32, 1408, 1, 1]     --                   --\n",
       "├─Sequential (classifier)                                    [32, 1408]           [32, 1000]           --                   True\n",
       "│    └─Dropout (0)                                           [32, 1408]           [32, 1408]           --                   --\n",
       "│    └─Linear (1)                                            [32, 1408]           [32, 1000]           1,409,000            True\n",
       "============================================================================================================================================\n",
       "Total params: 9,109,994\n",
       "Trainable params: 9,109,994\n",
       "Non-trainable params: 0\n",
       "Total mult-adds (G): 21.09\n",
       "============================================================================================================================================\n",
       "Input size (MB): 19.27\n",
       "Forward/backward pass size (MB): 5017.79\n",
       "Params size (MB): 36.44\n",
       "Estimated Total Size (MB): 5073.49\n",
       "============================================================================================================================================"
      ]
     },
     "execution_count": 23,
     "metadata": {},
     "output_type": "execute_result"
    }
   ],
   "source": [
    "summary(model=effnetb2, \n",
    "        input_size=(32, 3, 224, 224), \n",
    "        col_names=[\"input_size\", \"output_size\", \"num_params\", \"trainable\"],\n",
    "        col_width=20,\n",
    "        row_settings=[\"var_names\"]\n",
    ") "
   ]
  },
  {
   "cell_type": "code",
   "execution_count": 24,
   "id": "716813a0-27a3-4d49-87ef-f6691cf1db2c",
   "metadata": {},
   "outputs": [],
   "source": [
    "out_features = len(class_names)\n",
    "\n",
    "def create_effnetb0(out_features: int) -> torch.nn.Module:\n",
    "    weights = torchvision.models.EfficientNet_B0_Weights.DEFAULT\n",
    "    model = torchvision.models.efficientnet_b0(weights=weights).to(device)\n",
    "    for param in model.features.parameters():\n",
    "        param.requires_grad = False\n",
    "    set_seeds()\n",
    "    model.classifier = nn.Sequential(\n",
    "        nn.Dropout(p=0.2),\n",
    "        nn.Linear(in_features=1280, out_features=out_features)\n",
    "    ).to(device)\n",
    "    model.name = \"effnetb0\"\n",
    "    print(f\"[INFO] Created new {model.name} model.\")\n",
    "    return model\n",
    "\n",
    "def create_effnetb2(out_features: int) -> torch.nn.Module:\n",
    "    weights = torchvision.models.EfficientNet_B2_Weights.DEFAULT\n",
    "    model = torchvision.models.efficientnet_b2(weights=weights).to(device)\n",
    "    for param in model.features.parameters():\n",
    "        param.requires_grad = False\n",
    "    set_seeds()\n",
    "    model.classifier = nn.Sequential(\n",
    "        nn.Dropout(p=0.3),\n",
    "        nn.Linear(in_features=1408, out_features=out_features)\n",
    "    ).to(device)\n",
    "    model.name = \"effnetb2\"\n",
    "    print(f\"[INFO] Created new {model.name} model.\")\n",
    "    return model"
   ]
  },
  {
   "cell_type": "code",
   "execution_count": 25,
   "id": "38de43f3-7ae8-4be7-ab8d-773503485aab",
   "metadata": {},
   "outputs": [
    {
     "name": "stdout",
     "output_type": "stream",
     "text": [
      "[INFO] Created new effnetb0 model.\n"
     ]
    }
   ],
   "source": [
    "effnetb0 = create_effnetb0(out_features)"
   ]
  },
  {
   "cell_type": "code",
   "execution_count": 26,
   "id": "9f364459-4eaa-47f6-95e9-e6446978c9c6",
   "metadata": {},
   "outputs": [
    {
     "name": "stdout",
     "output_type": "stream",
     "text": [
      "[INFO] Created new effnetb2 model.\n"
     ]
    }
   ],
   "source": [
    "effnetb2 = create_effnetb2(out_features)"
   ]
  },
  {
   "cell_type": "code",
   "execution_count": 27,
   "id": "da679a51-e94c-4f12-811d-4bb83ce0c426",
   "metadata": {},
   "outputs": [],
   "source": [
    "num_epochs = [5, 10]\n",
    "models = [\"effnetb0\", \"effnetb2\"]\n",
    "train_dataloaders = {\"data_10_percent\": train_dataloader_10_percent,\n",
    "                     \"data_20_percent\": train_dataloader_20_percent}"
   ]
  },
  {
   "cell_type": "code",
   "execution_count": 31,
   "id": "adbe8a85-e16d-4586-a2b6-a51fbdd22720",
   "metadata": {},
   "outputs": [
    {
     "name": "stdout",
     "output_type": "stream",
     "text": [
      "[INFO] Experiment number: 1\n",
      "[INFO] Model: effnetb0\n",
      "[INFO] DataLoader: data_10_percent\n",
      "[INFO] Number of epochs: 5\n",
      "[INFO] Created new effnetb0 model.\n",
      "[INFO] Created SummaryWriter, saving to: runs\\2024-10-01\\data_10_percent\\effnetb0\\5_epochs...\n"
     ]
    },
    {
     "name": "stderr",
     "output_type": "stream",
     "text": [
      " 20%|████████████████▊                                                                   | 1/5 [00:15<01:01, 15.33s/it]"
     ]
    },
    {
     "name": "stdout",
     "output_type": "stream",
     "text": [
      "Epoch: 1 | train loss: 1.1178 | train acc: 0.4062 | test loss: 1.0976 | test acc: 0.3409\n"
     ]
    },
    {
     "name": "stderr",
     "output_type": "stream",
     "text": [
      " 40%|█████████████████████████████████▌                                                  | 2/5 [00:30<00:45, 15.14s/it]"
     ]
    },
    {
     "name": "stdout",
     "output_type": "stream",
     "text": [
      "Epoch: 2 | train loss: 1.1203 | train acc: 0.2852 | test loss: 1.0919 | test acc: 0.3201\n"
     ]
    },
    {
     "name": "stderr",
     "output_type": "stream",
     "text": [
      " 60%|██████████████████████████████████████████████████▍                                 | 3/5 [00:45<00:29, 14.98s/it]"
     ]
    },
    {
     "name": "stdout",
     "output_type": "stream",
     "text": [
      "Epoch: 3 | train loss: 1.1131 | train acc: 0.2734 | test loss: 1.0929 | test acc: 0.3097\n"
     ]
    },
    {
     "name": "stderr",
     "output_type": "stream",
     "text": [
      " 80%|███████████████████████████████████████████████████████████████████▏                | 4/5 [00:59<00:14, 14.93s/it]"
     ]
    },
    {
     "name": "stdout",
     "output_type": "stream",
     "text": [
      "Epoch: 4 | train loss: 1.1331 | train acc: 0.2930 | test loss: 1.0991 | test acc: 0.2888\n"
     ]
    },
    {
     "name": "stderr",
     "output_type": "stream",
     "text": [
      "100%|████████████████████████████████████████████████████████████████████████████████████| 5/5 [01:14<00:00, 14.98s/it]"
     ]
    },
    {
     "name": "stdout",
     "output_type": "stream",
     "text": [
      "Epoch: 5 | train loss: 1.1111 | train acc: 0.4141 | test loss: 1.0881 | test acc: 0.3191\n",
      "[INFO] Saving model to: models\\07_effnetb0_data_10_percent_5_epochs.pth\n",
      "--------------------------------------------------\n",
      "\n",
      "[INFO] Experiment number: 2\n",
      "[INFO] Model: effnetb2\n",
      "[INFO] DataLoader: data_10_percent\n",
      "[INFO] Number of epochs: 5\n"
     ]
    },
    {
     "name": "stderr",
     "output_type": "stream",
     "text": [
      "\n"
     ]
    },
    {
     "name": "stdout",
     "output_type": "stream",
     "text": [
      "[INFO] Created new effnetb2 model.\n",
      "[INFO] Created SummaryWriter, saving to: runs\\2024-10-01\\data_10_percent\\effnetb2\\5_epochs...\n"
     ]
    },
    {
     "name": "stderr",
     "output_type": "stream",
     "text": [
      " 20%|████████████████▊                                                                   | 1/5 [00:15<01:00, 15.07s/it]"
     ]
    },
    {
     "name": "stdout",
     "output_type": "stream",
     "text": [
      "Epoch: 1 | train loss: 1.1288 | train acc: 0.2461 | test loss: 1.0763 | test acc: 0.4100\n"
     ]
    },
    {
     "name": "stderr",
     "output_type": "stream",
     "text": [
      " 40%|█████████████████████████████████▌                                                  | 2/5 [00:30<00:45, 15.03s/it]"
     ]
    },
    {
     "name": "stdout",
     "output_type": "stream",
     "text": [
      "Epoch: 2 | train loss: 1.1040 | train acc: 0.3984 | test loss: 1.0870 | test acc: 0.3996\n"
     ]
    },
    {
     "name": "stderr",
     "output_type": "stream",
     "text": [
      " 60%|██████████████████████████████████████████████████▍                                 | 3/5 [00:45<00:30, 15.05s/it]"
     ]
    },
    {
     "name": "stdout",
     "output_type": "stream",
     "text": [
      "Epoch: 3 | train loss: 1.1360 | train acc: 0.2656 | test loss: 1.0948 | test acc: 0.3182\n"
     ]
    },
    {
     "name": "stderr",
     "output_type": "stream",
     "text": [
      " 80%|███████████████████████████████████████████████████████████████████▏                | 4/5 [01:00<00:15, 15.03s/it]"
     ]
    },
    {
     "name": "stdout",
     "output_type": "stream",
     "text": [
      "Epoch: 4 | train loss: 1.1383 | train acc: 0.2812 | test loss: 1.0962 | test acc: 0.3485\n"
     ]
    },
    {
     "name": "stderr",
     "output_type": "stream",
     "text": [
      "100%|████████████████████████████████████████████████████████████████████████████████████| 5/5 [01:15<00:00, 15.04s/it]\n"
     ]
    },
    {
     "name": "stdout",
     "output_type": "stream",
     "text": [
      "Epoch: 5 | train loss: 1.1150 | train acc: 0.3906 | test loss: 1.1020 | test acc: 0.2670\n",
      "[INFO] Saving model to: models\\07_effnetb2_data_10_percent_5_epochs.pth\n",
      "--------------------------------------------------\n",
      "\n",
      "[INFO] Experiment number: 3\n",
      "[INFO] Model: effnetb0\n",
      "[INFO] DataLoader: data_10_percent\n",
      "[INFO] Number of epochs: 10\n",
      "[INFO] Created new effnetb0 model.\n",
      "[INFO] Created SummaryWriter, saving to: runs\\2024-10-01\\data_10_percent\\effnetb0\\10_epochs...\n"
     ]
    },
    {
     "name": "stderr",
     "output_type": "stream",
     "text": [
      " 10%|████████▎                                                                          | 1/10 [00:15<02:16, 15.16s/it]"
     ]
    },
    {
     "name": "stdout",
     "output_type": "stream",
     "text": [
      "Epoch: 1 | train loss: 1.1178 | train acc: 0.4062 | test loss: 1.0976 | test acc: 0.3409\n"
     ]
    },
    {
     "name": "stderr",
     "output_type": "stream",
     "text": [
      " 20%|████████████████▌                                                                  | 2/10 [00:30<02:01, 15.15s/it]"
     ]
    },
    {
     "name": "stdout",
     "output_type": "stream",
     "text": [
      "Epoch: 2 | train loss: 1.1203 | train acc: 0.2852 | test loss: 1.0919 | test acc: 0.3201\n"
     ]
    },
    {
     "name": "stderr",
     "output_type": "stream",
     "text": [
      " 30%|████████████████████████▉                                                          | 3/10 [00:45<01:45, 15.12s/it]"
     ]
    },
    {
     "name": "stdout",
     "output_type": "stream",
     "text": [
      "Epoch: 3 | train loss: 1.1131 | train acc: 0.2734 | test loss: 1.0929 | test acc: 0.3097\n"
     ]
    },
    {
     "name": "stderr",
     "output_type": "stream",
     "text": [
      " 40%|█████████████████████████████████▏                                                 | 4/10 [01:00<01:30, 15.14s/it]"
     ]
    },
    {
     "name": "stdout",
     "output_type": "stream",
     "text": [
      "Epoch: 4 | train loss: 1.1331 | train acc: 0.2930 | test loss: 1.0991 | test acc: 0.2888\n"
     ]
    },
    {
     "name": "stderr",
     "output_type": "stream",
     "text": [
      " 50%|█████████████████████████████████████████▌                                         | 5/10 [01:15<01:15, 15.11s/it]"
     ]
    },
    {
     "name": "stdout",
     "output_type": "stream",
     "text": [
      "Epoch: 5 | train loss: 1.1111 | train acc: 0.4141 | test loss: 1.0881 | test acc: 0.3191\n"
     ]
    },
    {
     "name": "stderr",
     "output_type": "stream",
     "text": [
      " 60%|█████████████████████████████████████████████████▊                                 | 6/10 [01:30<01:00, 15.08s/it]"
     ]
    },
    {
     "name": "stdout",
     "output_type": "stream",
     "text": [
      "Epoch: 6 | train loss: 1.1347 | train acc: 0.2578 | test loss: 1.0914 | test acc: 0.3097\n"
     ]
    },
    {
     "name": "stderr",
     "output_type": "stream",
     "text": [
      " 70%|██████████████████████████████████████████████████████████                         | 7/10 [01:45<00:45, 15.09s/it]"
     ]
    },
    {
     "name": "stdout",
     "output_type": "stream",
     "text": [
      "Epoch: 7 | train loss: 1.1089 | train acc: 0.3125 | test loss: 1.0945 | test acc: 0.3400\n"
     ]
    },
    {
     "name": "stderr",
     "output_type": "stream",
     "text": [
      " 80%|██████████████████████████████████████████████████████████████████▍                | 8/10 [02:00<00:30, 15.12s/it]"
     ]
    },
    {
     "name": "stdout",
     "output_type": "stream",
     "text": [
      "Epoch: 8 | train loss: 1.1097 | train acc: 0.4297 | test loss: 1.0863 | test acc: 0.3295\n"
     ]
    },
    {
     "name": "stderr",
     "output_type": "stream",
     "text": [
      " 90%|██████████████████████████████████████████████████████████████████████████▋        | 9/10 [02:15<00:15, 15.09s/it]"
     ]
    },
    {
     "name": "stdout",
     "output_type": "stream",
     "text": [
      "Epoch: 9 | train loss: 1.1302 | train acc: 0.2891 | test loss: 1.1001 | test acc: 0.2784\n"
     ]
    },
    {
     "name": "stderr",
     "output_type": "stream",
     "text": [
      "100%|██████████████████████████████████████████████████████████████████████████████████| 10/10 [02:31<00:00, 15.10s/it]"
     ]
    },
    {
     "name": "stdout",
     "output_type": "stream",
     "text": [
      "Epoch: 10 | train loss: 1.1319 | train acc: 0.2695 | test loss: 1.0987 | test acc: 0.2992\n",
      "[INFO] Saving model to: models\\07_effnetb0_data_10_percent_10_epochs.pth\n",
      "--------------------------------------------------\n",
      "\n",
      "[INFO] Experiment number: 4\n",
      "[INFO] Model: effnetb2\n",
      "[INFO] DataLoader: data_10_percent\n",
      "[INFO] Number of epochs: 10\n"
     ]
    },
    {
     "name": "stderr",
     "output_type": "stream",
     "text": [
      "\n"
     ]
    },
    {
     "name": "stdout",
     "output_type": "stream",
     "text": [
      "[INFO] Created new effnetb2 model.\n",
      "[INFO] Created SummaryWriter, saving to: runs\\2024-10-01\\data_10_percent\\effnetb2\\10_epochs...\n"
     ]
    },
    {
     "name": "stderr",
     "output_type": "stream",
     "text": [
      " 10%|████████▎                                                                          | 1/10 [00:15<02:18, 15.36s/it]"
     ]
    },
    {
     "name": "stdout",
     "output_type": "stream",
     "text": [
      "Epoch: 1 | train loss: 1.1288 | train acc: 0.2461 | test loss: 1.0763 | test acc: 0.4100\n"
     ]
    },
    {
     "name": "stderr",
     "output_type": "stream",
     "text": [
      " 20%|████████████████▌                                                                  | 2/10 [00:30<02:01, 15.22s/it]"
     ]
    },
    {
     "name": "stdout",
     "output_type": "stream",
     "text": [
      "Epoch: 2 | train loss: 1.1040 | train acc: 0.3984 | test loss: 1.0870 | test acc: 0.3996\n"
     ]
    },
    {
     "name": "stderr",
     "output_type": "stream",
     "text": [
      " 30%|████████████████████████▉                                                          | 3/10 [00:45<01:46, 15.21s/it]"
     ]
    },
    {
     "name": "stdout",
     "output_type": "stream",
     "text": [
      "Epoch: 3 | train loss: 1.1360 | train acc: 0.2656 | test loss: 1.0948 | test acc: 0.3182\n"
     ]
    },
    {
     "name": "stderr",
     "output_type": "stream",
     "text": [
      " 40%|█████████████████████████████████▏                                                 | 4/10 [01:00<01:31, 15.22s/it]"
     ]
    },
    {
     "name": "stdout",
     "output_type": "stream",
     "text": [
      "Epoch: 4 | train loss: 1.1383 | train acc: 0.2812 | test loss: 1.0962 | test acc: 0.3485\n"
     ]
    },
    {
     "name": "stderr",
     "output_type": "stream",
     "text": [
      " 50%|█████████████████████████████████████████▌                                         | 5/10 [01:16<01:16, 15.29s/it]"
     ]
    },
    {
     "name": "stdout",
     "output_type": "stream",
     "text": [
      "Epoch: 5 | train loss: 1.1150 | train acc: 0.3906 | test loss: 1.1020 | test acc: 0.2670\n"
     ]
    },
    {
     "name": "stderr",
     "output_type": "stream",
     "text": [
      " 60%|█████████████████████████████████████████████████▊                                 | 6/10 [01:32<01:01, 15.45s/it]"
     ]
    },
    {
     "name": "stdout",
     "output_type": "stream",
     "text": [
      "Epoch: 6 | train loss: 1.1142 | train acc: 0.3008 | test loss: 1.1076 | test acc: 0.2670\n"
     ]
    },
    {
     "name": "stderr",
     "output_type": "stream",
     "text": [
      " 70%|██████████████████████████████████████████████████████████                         | 7/10 [01:47<00:46, 15.47s/it]"
     ]
    },
    {
     "name": "stdout",
     "output_type": "stream",
     "text": [
      "Epoch: 7 | train loss: 1.1357 | train acc: 0.2891 | test loss: 1.1153 | test acc: 0.2367\n"
     ]
    },
    {
     "name": "stderr",
     "output_type": "stream",
     "text": [
      " 80%|██████████████████████████████████████████████████████████████████▍                | 8/10 [02:03<00:30, 15.47s/it]"
     ]
    },
    {
     "name": "stdout",
     "output_type": "stream",
     "text": [
      "Epoch: 8 | train loss: 1.1169 | train acc: 0.4219 | test loss: 1.1049 | test acc: 0.2680\n"
     ]
    },
    {
     "name": "stderr",
     "output_type": "stream",
     "text": [
      " 90%|██████████████████████████████████████████████████████████████████████████▋        | 9/10 [02:18<00:15, 15.39s/it]"
     ]
    },
    {
     "name": "stdout",
     "output_type": "stream",
     "text": [
      "Epoch: 9 | train loss: 1.1263 | train acc: 0.2891 | test loss: 1.1026 | test acc: 0.2680\n"
     ]
    },
    {
     "name": "stderr",
     "output_type": "stream",
     "text": [
      "100%|██████████████████████████████████████████████████████████████████████████████████| 10/10 [02:33<00:00, 15.35s/it]"
     ]
    },
    {
     "name": "stdout",
     "output_type": "stream",
     "text": [
      "Epoch: 10 | train loss: 1.1262 | train acc: 0.2969 | test loss: 1.1003 | test acc: 0.3598\n",
      "[INFO] Saving model to: models\\07_effnetb2_data_10_percent_10_epochs.pth\n",
      "--------------------------------------------------\n",
      "\n",
      "[INFO] Experiment number: 5\n",
      "[INFO] Model: effnetb0\n",
      "[INFO] DataLoader: data_20_percent\n",
      "[INFO] Number of epochs: 5\n",
      "[INFO] Created new effnetb0 model.\n"
     ]
    },
    {
     "name": "stderr",
     "output_type": "stream",
     "text": [
      "\n"
     ]
    },
    {
     "name": "stdout",
     "output_type": "stream",
     "text": [
      "[INFO] Created SummaryWriter, saving to: runs\\2024-10-01\\data_20_percent\\effnetb0\\5_epochs...\n"
     ]
    },
    {
     "name": "stderr",
     "output_type": "stream",
     "text": [
      " 20%|████████████████▊                                                                   | 1/5 [00:15<01:02, 15.73s/it]"
     ]
    },
    {
     "name": "stdout",
     "output_type": "stream",
     "text": [
      "Epoch: 1 | train loss: 1.1049 | train acc: 0.3729 | test loss: 1.1009 | test acc: 0.3201\n"
     ]
    },
    {
     "name": "stderr",
     "output_type": "stream",
     "text": [
      " 40%|█████████████████████████████████▌                                                  | 2/5 [00:31<00:46, 15.53s/it]"
     ]
    },
    {
     "name": "stdout",
     "output_type": "stream",
     "text": [
      "Epoch: 2 | train loss: 1.1127 | train acc: 0.3542 | test loss: 1.1038 | test acc: 0.2689\n"
     ]
    },
    {
     "name": "stderr",
     "output_type": "stream",
     "text": [
      " 60%|██████████████████████████████████████████████████▍                                 | 3/5 [00:46<00:31, 15.51s/it]"
     ]
    },
    {
     "name": "stdout",
     "output_type": "stream",
     "text": [
      "Epoch: 3 | train loss: 1.1136 | train acc: 0.3375 | test loss: 1.0942 | test acc: 0.2888\n"
     ]
    },
    {
     "name": "stderr",
     "output_type": "stream",
     "text": [
      " 80%|███████████████████████████████████████████████████████████████████▏                | 4/5 [01:02<00:15, 15.59s/it]"
     ]
    },
    {
     "name": "stdout",
     "output_type": "stream",
     "text": [
      "Epoch: 4 | train loss: 1.1140 | train acc: 0.3458 | test loss: 1.0998 | test acc: 0.2888\n"
     ]
    },
    {
     "name": "stderr",
     "output_type": "stream",
     "text": [
      "100%|████████████████████████████████████████████████████████████████████████████████████| 5/5 [01:18<00:00, 15.67s/it]"
     ]
    },
    {
     "name": "stdout",
     "output_type": "stream",
     "text": [
      "Epoch: 5 | train loss: 1.1217 | train acc: 0.3042 | test loss: 1.0999 | test acc: 0.3097\n",
      "[INFO] Saving model to: models\\07_effnetb0_data_20_percent_5_epochs.pth\n",
      "--------------------------------------------------\n",
      "\n",
      "[INFO] Experiment number: 6\n",
      "[INFO] Model: effnetb2\n",
      "[INFO] DataLoader: data_20_percent\n",
      "[INFO] Number of epochs: 5\n"
     ]
    },
    {
     "name": "stderr",
     "output_type": "stream",
     "text": [
      "\n"
     ]
    },
    {
     "name": "stdout",
     "output_type": "stream",
     "text": [
      "[INFO] Created new effnetb2 model.\n",
      "[INFO] Created SummaryWriter, saving to: runs\\2024-10-01\\data_20_percent\\effnetb2\\5_epochs...\n"
     ]
    },
    {
     "name": "stderr",
     "output_type": "stream",
     "text": [
      " 20%|████████████████▊                                                                   | 1/5 [00:15<01:03, 15.83s/it]"
     ]
    },
    {
     "name": "stdout",
     "output_type": "stream",
     "text": [
      "Epoch: 1 | train loss: 1.1233 | train acc: 0.2750 | test loss: 1.0851 | test acc: 0.3589\n"
     ]
    },
    {
     "name": "stderr",
     "output_type": "stream",
     "text": [
      " 40%|█████████████████████████████████▌                                                  | 2/5 [00:31<00:47, 15.90s/it]"
     ]
    },
    {
     "name": "stdout",
     "output_type": "stream",
     "text": [
      "Epoch: 2 | train loss: 1.1238 | train acc: 0.3271 | test loss: 1.0957 | test acc: 0.3078\n"
     ]
    },
    {
     "name": "stderr",
     "output_type": "stream",
     "text": [
      " 60%|██████████████████████████████████████████████████▍                                 | 3/5 [00:47<00:31, 15.86s/it]"
     ]
    },
    {
     "name": "stdout",
     "output_type": "stream",
     "text": [
      "Epoch: 3 | train loss: 1.1261 | train acc: 0.2958 | test loss: 1.1014 | test acc: 0.2670\n"
     ]
    },
    {
     "name": "stderr",
     "output_type": "stream",
     "text": [
      " 80%|███████████████████████████████████████████████████████████████████▏                | 4/5 [01:03<00:15, 15.86s/it]"
     ]
    },
    {
     "name": "stdout",
     "output_type": "stream",
     "text": [
      "Epoch: 4 | train loss: 1.1348 | train acc: 0.2979 | test loss: 1.1026 | test acc: 0.2680\n"
     ]
    },
    {
     "name": "stderr",
     "output_type": "stream",
     "text": [
      "100%|████████████████████████████████████████████████████████████████████████████████████| 5/5 [01:19<00:00, 15.90s/it]\n"
     ]
    },
    {
     "name": "stdout",
     "output_type": "stream",
     "text": [
      "Epoch: 5 | train loss: 1.1252 | train acc: 0.2854 | test loss: 1.0952 | test acc: 0.3087\n",
      "[INFO] Saving model to: models\\07_effnetb2_data_20_percent_5_epochs.pth\n",
      "--------------------------------------------------\n",
      "\n",
      "[INFO] Experiment number: 7\n",
      "[INFO] Model: effnetb0\n",
      "[INFO] DataLoader: data_20_percent\n",
      "[INFO] Number of epochs: 10\n",
      "[INFO] Created new effnetb0 model.\n",
      "[INFO] Created SummaryWriter, saving to: runs\\2024-10-01\\data_20_percent\\effnetb0\\10_epochs...\n"
     ]
    },
    {
     "name": "stderr",
     "output_type": "stream",
     "text": [
      " 10%|████████▎                                                                          | 1/10 [00:15<02:23, 15.93s/it]"
     ]
    },
    {
     "name": "stdout",
     "output_type": "stream",
     "text": [
      "Epoch: 1 | train loss: 1.1049 | train acc: 0.3729 | test loss: 1.1009 | test acc: 0.3201\n"
     ]
    },
    {
     "name": "stderr",
     "output_type": "stream",
     "text": [
      " 20%|████████████████▌                                                                  | 2/10 [00:33<02:17, 17.18s/it]"
     ]
    },
    {
     "name": "stdout",
     "output_type": "stream",
     "text": [
      "Epoch: 2 | train loss: 1.1127 | train acc: 0.3542 | test loss: 1.1038 | test acc: 0.2689\n"
     ]
    },
    {
     "name": "stderr",
     "output_type": "stream",
     "text": [
      " 30%|████████████████████████▉                                                          | 3/10 [00:51<01:59, 17.11s/it]"
     ]
    },
    {
     "name": "stdout",
     "output_type": "stream",
     "text": [
      "Epoch: 3 | train loss: 1.1136 | train acc: 0.3375 | test loss: 1.0942 | test acc: 0.2888\n"
     ]
    },
    {
     "name": "stderr",
     "output_type": "stream",
     "text": [
      " 40%|█████████████████████████████████▏                                                 | 4/10 [01:07<01:40, 16.80s/it]"
     ]
    },
    {
     "name": "stdout",
     "output_type": "stream",
     "text": [
      "Epoch: 4 | train loss: 1.1140 | train acc: 0.3458 | test loss: 1.0998 | test acc: 0.2888\n"
     ]
    },
    {
     "name": "stderr",
     "output_type": "stream",
     "text": [
      " 50%|█████████████████████████████████████████▌                                         | 5/10 [01:23<01:22, 16.54s/it]"
     ]
    },
    {
     "name": "stdout",
     "output_type": "stream",
     "text": [
      "Epoch: 5 | train loss: 1.1217 | train acc: 0.3042 | test loss: 1.0999 | test acc: 0.3097\n"
     ]
    },
    {
     "name": "stderr",
     "output_type": "stream",
     "text": [
      " 60%|█████████████████████████████████████████████████▊                                 | 6/10 [01:39<01:05, 16.50s/it]"
     ]
    },
    {
     "name": "stdout",
     "output_type": "stream",
     "text": [
      "Epoch: 6 | train loss: 1.1046 | train acc: 0.3688 | test loss: 1.1006 | test acc: 0.3201\n"
     ]
    },
    {
     "name": "stderr",
     "output_type": "stream",
     "text": [
      " 70%|██████████████████████████████████████████████████████████                         | 7/10 [01:56<00:49, 16.41s/it]"
     ]
    },
    {
     "name": "stdout",
     "output_type": "stream",
     "text": [
      "Epoch: 7 | train loss: 1.1174 | train acc: 0.3250 | test loss: 1.0964 | test acc: 0.3201\n"
     ]
    },
    {
     "name": "stderr",
     "output_type": "stream",
     "text": [
      " 80%|██████████████████████████████████████████████████████████████████▍                | 8/10 [02:12<00:32, 16.33s/it]"
     ]
    },
    {
     "name": "stdout",
     "output_type": "stream",
     "text": [
      "Epoch: 8 | train loss: 1.1204 | train acc: 0.3104 | test loss: 1.1021 | test acc: 0.2481\n"
     ]
    },
    {
     "name": "stderr",
     "output_type": "stream",
     "text": [
      " 90%|██████████████████████████████████████████████████████████████████████████▋        | 9/10 [02:28<00:16, 16.39s/it]"
     ]
    },
    {
     "name": "stdout",
     "output_type": "stream",
     "text": [
      "Epoch: 9 | train loss: 1.1142 | train acc: 0.3458 | test loss: 1.1040 | test acc: 0.2794\n"
     ]
    },
    {
     "name": "stderr",
     "output_type": "stream",
     "text": [
      "100%|██████████████████████████████████████████████████████████████████████████████████| 10/10 [02:45<00:00, 16.56s/it]"
     ]
    },
    {
     "name": "stdout",
     "output_type": "stream",
     "text": [
      "Epoch: 10 | train loss: 1.1304 | train acc: 0.2812 | test loss: 1.1043 | test acc: 0.2689\n",
      "[INFO] Saving model to: models\\07_effnetb0_data_20_percent_10_epochs.pth\n",
      "--------------------------------------------------\n",
      "\n",
      "[INFO] Experiment number: 8\n",
      "[INFO] Model: effnetb2\n",
      "[INFO] DataLoader: data_20_percent\n",
      "[INFO] Number of epochs: 10\n"
     ]
    },
    {
     "name": "stderr",
     "output_type": "stream",
     "text": [
      "\n"
     ]
    },
    {
     "name": "stdout",
     "output_type": "stream",
     "text": [
      "[INFO] Created new effnetb2 model.\n",
      "[INFO] Created SummaryWriter, saving to: runs\\2024-10-01\\data_20_percent\\effnetb2\\10_epochs...\n"
     ]
    },
    {
     "name": "stderr",
     "output_type": "stream",
     "text": [
      " 10%|████████▎                                                                          | 1/10 [00:16<02:29, 16.57s/it]"
     ]
    },
    {
     "name": "stdout",
     "output_type": "stream",
     "text": [
      "Epoch: 1 | train loss: 1.1233 | train acc: 0.2750 | test loss: 1.0851 | test acc: 0.3589\n"
     ]
    },
    {
     "name": "stderr",
     "output_type": "stream",
     "text": [
      " 20%|████████████████▌                                                                  | 2/10 [00:33<02:14, 16.75s/it]"
     ]
    },
    {
     "name": "stdout",
     "output_type": "stream",
     "text": [
      "Epoch: 2 | train loss: 1.1238 | train acc: 0.3271 | test loss: 1.0957 | test acc: 0.3078\n"
     ]
    },
    {
     "name": "stderr",
     "output_type": "stream",
     "text": [
      " 30%|████████████████████████▉                                                          | 3/10 [00:50<01:56, 16.70s/it]"
     ]
    },
    {
     "name": "stdout",
     "output_type": "stream",
     "text": [
      "Epoch: 3 | train loss: 1.1261 | train acc: 0.2958 | test loss: 1.1014 | test acc: 0.2670\n"
     ]
    },
    {
     "name": "stderr",
     "output_type": "stream",
     "text": [
      " 40%|█████████████████████████████████▏                                                 | 4/10 [01:07<01:40, 16.81s/it]"
     ]
    },
    {
     "name": "stdout",
     "output_type": "stream",
     "text": [
      "Epoch: 4 | train loss: 1.1348 | train acc: 0.2979 | test loss: 1.1026 | test acc: 0.2680\n"
     ]
    },
    {
     "name": "stderr",
     "output_type": "stream",
     "text": [
      " 50%|█████████████████████████████████████████▌                                         | 5/10 [01:24<01:25, 17.15s/it]"
     ]
    },
    {
     "name": "stdout",
     "output_type": "stream",
     "text": [
      "Epoch: 5 | train loss: 1.1252 | train acc: 0.2854 | test loss: 1.0952 | test acc: 0.3087\n"
     ]
    },
    {
     "name": "stderr",
     "output_type": "stream",
     "text": [
      " 60%|█████████████████████████████████████████████████▊                                 | 6/10 [01:41<01:07, 16.97s/it]"
     ]
    },
    {
     "name": "stdout",
     "output_type": "stream",
     "text": [
      "Epoch: 6 | train loss: 1.1293 | train acc: 0.2458 | test loss: 1.0933 | test acc: 0.2775\n"
     ]
    },
    {
     "name": "stderr",
     "output_type": "stream",
     "text": [
      " 70%|██████████████████████████████████████████████████████████                         | 7/10 [01:59<00:51, 17.25s/it]"
     ]
    },
    {
     "name": "stdout",
     "output_type": "stream",
     "text": [
      "Epoch: 7 | train loss: 1.1248 | train acc: 0.2437 | test loss: 1.1012 | test acc: 0.3286\n"
     ]
    },
    {
     "name": "stderr",
     "output_type": "stream",
     "text": [
      " 80%|██████████████████████████████████████████████████████████████████▍                | 8/10 [02:16<00:34, 17.09s/it]"
     ]
    },
    {
     "name": "stdout",
     "output_type": "stream",
     "text": [
      "Epoch: 8 | train loss: 1.1297 | train acc: 0.2812 | test loss: 1.0898 | test acc: 0.3286\n"
     ]
    },
    {
     "name": "stderr",
     "output_type": "stream",
     "text": [
      " 90%|██████████████████████████████████████████████████████████████████████████▋        | 9/10 [02:32<00:16, 16.99s/it]"
     ]
    },
    {
     "name": "stdout",
     "output_type": "stream",
     "text": [
      "Epoch: 9 | train loss: 1.1202 | train acc: 0.3250 | test loss: 1.0912 | test acc: 0.3485\n"
     ]
    },
    {
     "name": "stderr",
     "output_type": "stream",
     "text": [
      "100%|██████████████████████████████████████████████████████████████████████████████████| 10/10 [02:50<00:00, 17.07s/it]"
     ]
    },
    {
     "name": "stdout",
     "output_type": "stream",
     "text": [
      "Epoch: 10 | train loss: 1.1216 | train acc: 0.3208 | test loss: 1.0962 | test acc: 0.3182\n",
      "[INFO] Saving model to: models\\07_effnetb2_data_20_percent_10_epochs.pth\n",
      "--------------------------------------------------\n",
      "\n"
     ]
    },
    {
     "name": "stderr",
     "output_type": "stream",
     "text": [
      "\n"
     ]
    }
   ],
   "source": [
    "from going_modular.utils import save_model\n",
    "set_seeds()\n",
    "experiment_number = 0\n",
    "for dataloader_name, train_dataloader in train_dataloaders.items():\n",
    "    for epochs in num_epochs:\n",
    "        for model_name in models:\n",
    "            experiment_number +=1\n",
    "            print(f\"[INFO] Experiment number: {experiment_number}\")\n",
    "            print(f\"[INFO] Model: {model_name}\")\n",
    "            print(f\"[INFO] DataLoader: {dataloader_name}\")\n",
    "            print(f\"[INFO] Number of epochs: {epochs}\")  \n",
    "            if model_name == \"effnetb0\":\n",
    "                model = create_effnetb0(out_features)\n",
    "            else:\n",
    "                model = create_effnetb2(out_features)\n",
    "            loss_fn = nn.CrossEntropyLoss()\n",
    "            optmizer = torch.optim.Adam(params = model.parameters(), lr=0.001)\n",
    "            train(model=model,\n",
    "                    train_dataloader=train_dataloader,\n",
    "                    test_dataloader=test_dataloader,\n",
    "                    optimizer=optimizer,\n",
    "                    loss_fn=loss_fn,\n",
    "                    epochs=epochs,\n",
    "                    device=device,\n",
    "                    writer=create_writer(experiment_name=dataloader_name,\n",
    "                                        model_name=model_name,\n",
    "                                        extra=f\"{epochs}_epochs\"))\n",
    "            save_filepath=f\"07_{model_name}_{dataloader_name}_{epochs}_epochs.pth\"\n",
    "            save_model(model=model,\n",
    "                        target_dir=\"models\",\n",
    "                        model_name=save_filepath)\n",
    "            print(\"-\"*50+\"\\n\")"
   ]
  },
  {
   "cell_type": "code",
   "execution_count": 37,
   "id": "8a4fd881-a0d4-4a4a-8da8-3d37b5c1ae88",
   "metadata": {},
   "outputs": [
    {
     "name": "stdout",
     "output_type": "stream",
     "text": [
      "The tensorboard extension is already loaded. To reload it, use:\n",
      "  %reload_ext tensorboard\n"
     ]
    },
    {
     "data": {
      "text/plain": [
       "Reusing TensorBoard on port 6006 (pid 5792), started 21:30:05 ago. (Use '!kill 5792' to kill it.)"
      ]
     },
     "metadata": {},
     "output_type": "display_data"
    },
    {
     "data": {
      "text/html": [
       "\n",
       "      <iframe id=\"tensorboard-frame-7e1d2eaeec48f528\" width=\"100%\" height=\"800\" frameborder=\"0\">\n",
       "      </iframe>\n",
       "      <script>\n",
       "        (function() {\n",
       "          const frame = document.getElementById(\"tensorboard-frame-7e1d2eaeec48f528\");\n",
       "          const url = new URL(\"/\", window.location);\n",
       "          const port = 6006;\n",
       "          if (port) {\n",
       "            url.port = port;\n",
       "          }\n",
       "          frame.src = url;\n",
       "        })();\n",
       "      </script>\n",
       "    "
      ],
      "text/plain": [
       "<IPython.core.display.HTML object>"
      ]
     },
     "metadata": {},
     "output_type": "display_data"
    }
   ],
   "source": [
    "%load_ext tensorboard\n",
    "%tensorboard --logdir runs"
   ]
  },
  {
   "cell_type": "code",
   "execution_count": null,
   "id": "9b63b107-9771-42d1-a55e-f5582f7dd238",
   "metadata": {},
   "outputs": [],
   "source": []
  }
 ],
 "metadata": {
  "kernelspec": {
   "display_name": "python pytorch",
   "language": "python",
   "name": "venv_pytorch"
  },
  "language_info": {
   "codemirror_mode": {
    "name": "ipython",
    "version": 3
   },
   "file_extension": ".py",
   "mimetype": "text/x-python",
   "name": "python",
   "nbconvert_exporter": "python",
   "pygments_lexer": "ipython3",
   "version": "3.10.7"
  }
 },
 "nbformat": 4,
 "nbformat_minor": 5
}
