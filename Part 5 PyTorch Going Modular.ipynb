{
 "cells": [
  {
   "cell_type": "markdown",
   "id": "990b3c8c-86f5-4760-8769-ec3ac490a835",
   "metadata": {},
   "source": [
    "## 1. Get data"
   ]
  },
  {
   "cell_type": "code",
   "execution_count": 1,
   "id": "ead91684-b18e-46a8-98eb-54bbe6afe258",
   "metadata": {},
   "outputs": [
    {
     "name": "stdout",
     "output_type": "stream",
     "text": [
      "data\\pizza_steak_sushi directory exists.\n"
     ]
    }
   ],
   "source": [
    "import os\n",
    "import requests\n",
    "import zipfile\n",
    "from pathlib import Path\n",
    "\n",
    "data_path = Path(\"data/\")\n",
    "image_path = data_path / \"pizza_steak_sushi\"\n",
    "if image_path.is_dir():\n",
    "    print(f\"{image_path} directory exists.\")\n",
    "else:\n",
    "    print(f\"Did not find directory {image_path}. Creating one...\")\n",
    "    image_path.mkdir(parents=True, exist_ok=True)\n",
    "    with open(data_path/\"pizza_steak_sushi.zip\",\"wb\") as f:\n",
    "        request = requests.get(\"https://github.com/mrdbourke/pytorch-deep-learning/raw/main/data/pizza_steak_sushi.zip\")\n",
    "        print(\"Downloading data...\")\n",
    "        f.write(request.content)\n",
    "    with zipfile.ZipFile(data_path/\"pizza_steak_sushi.zip\",\"r\") as zip_ref:\n",
    "        print(\"unzipping data...\")\n",
    "        zip_ref.extractall(image_path)\n",
    "    os.remove(data_path/\"pizza_steak_sushi.zip\")"
   ]
  },
  {
   "cell_type": "markdown",
   "id": "142b44bd-bb79-4898-94ab-b51f554ff780",
   "metadata": {},
   "source": [
    "## 2. Create Datasets and DataLoaders (`data_setup.py`)"
   ]
  },
  {
   "cell_type": "code",
   "execution_count": 2,
   "id": "9a1576eb-5d72-459a-ac59-16c7328a3aee",
   "metadata": {},
   "outputs": [
    {
     "name": "stdout",
     "output_type": "stream",
     "text": [
      "Overwriting going_modular/data_setup.py\n"
     ]
    }
   ],
   "source": [
    "%%writefile going_modular/data_setup.py\n",
    "\"\"\"\n",
    "Contains functionality for creating PyTorch DataLoaders for image classification data.\n",
    "\"\"\"\n",
    "import os\n",
    "from torchvision import datasets, transforms\n",
    "from torch.utils.data import DataLoader\n",
    "\n",
    "NUM_WORKERS = os.cpu_count()\n",
    "\n",
    "def create_dataloader(train_dir: str,\n",
    "                      test_dir: str,\n",
    "                      transform: transforms.Compose,\n",
    "                      batch_size: int,\n",
    "                      num_workers: int = NUM_WORKERS):\n",
    "    \"\"\"Creates training and testing DataLoaders.\n",
    "    Takes in a training directory and testing directory path and turns them into PyTorch Datasets and then into PyTorch DataLoaders.\n",
    "    Args:\n",
    "        train_dir: Path to training directory\n",
    "        test_dir: Path to testing directory\n",
    "        transform: torchvision transforms to perform on training and testing data\n",
    "        batch_size: number of samples per batch in each of the DataLoaders.\n",
    "        num_workers: An integer for number of workers per DataLoader\n",
    "    Returns:\n",
    "        A Tuple of (train_dataloader, test_dataloader, class_names)\n",
    "        Where class_names is a list of target classes.\n",
    "    Example usage:\n",
    "        train_dataloader, test_dataloader, class_names = create_dataloader(train_dir=path/to/train_dir,\n",
    "                                                                           test_dir=path/to/test_dir,\n",
    "                                                                           transform=transforms.ToTensor(),\n",
    "                                                                           batch_size=32,\n",
    "                                                                           num_workers=4)\n",
    "    \"\"\"\n",
    "    train_data = datasets.ImageFolder(train_dir, transform=transform)\n",
    "    test_data = datasets.ImageFolder(test_dir, transform=transform)\n",
    "    class_names = train_data.classes\n",
    "    train_dataloader = DataLoader(train_data,\n",
    "                                  batch_size=batch_size,\n",
    "                                  shuffle=True,\n",
    "                                  num_workers=num_workers,\n",
    "                                  pin_memory=True)\n",
    "    test_dataloader = DataLoader(test_data,\n",
    "                                 batch_size=batch_size,\n",
    "                                 shuffle=False,\n",
    "                                 num_workers=num_workers,\n",
    "                                 pin_memory=True)\n",
    "    return train_dataloader, test_dataloader, class_names"
   ]
  },
  {
   "cell_type": "code",
   "execution_count": 3,
   "id": "436d662f-ad5e-4663-b1d6-b43c081c584b",
   "metadata": {},
   "outputs": [],
   "source": [
    "from going_modular import data_setup\n",
    "from torchvision import transforms\n",
    "train_dataloader, test_dataloader, class_names = data_setup.create_dataloader(image_path/\"train\",\n",
    "                                                                               image_path/\"test\",\n",
    "                                                                               transform=transforms.ToTensor(),\n",
    "                                                                               batch_size=32)"
   ]
  },
  {
   "cell_type": "markdown",
   "id": "5c154c82-aa48-49a4-ad03-a1a4f1f3cec3",
   "metadata": {},
   "source": [
    "## 3. Making a model (`model_builder.py`)"
   ]
  },
  {
   "cell_type": "code",
   "execution_count": 4,
   "id": "456895b0-e784-4b17-bb9f-d2485aeea39c",
   "metadata": {},
   "outputs": [
    {
     "name": "stdout",
     "output_type": "stream",
     "text": [
      "Overwriting going_modular/model_builder.py\n"
     ]
    }
   ],
   "source": [
    "%%writefile going_modular/model_builder.py\n",
    "\"\"\"\n",
    "Contains PyTorch model code to instantiate a TinyVGG model\n",
    "\"\"\"\n",
    "import torch\n",
    "from torch import nn\n",
    "\n",
    "class TinyVGG(nn.Module):\n",
    "    \"\"\"Creates the TinyVGG architecture\n",
    "    Replicates the TinyVGG architecture from the CNN explainer website in PyTorch\n",
    "    Args:\n",
    "        input_shape: An integer indicating number of input channels\n",
    "        hidden_units: An integer indicating number of hidden units between layers.\n",
    "        output_shape: An integer indicating number of output units.\n",
    "    \"\"\"\n",
    "    def __init__(self,input_shape:int,hidden_units:int,output_shape:int):\n",
    "        super().__init__()\n",
    "        self.conv_block_1 = nn.Sequential(nn.Conv2d(in_channels=input_shape,\n",
    "                                                    out_channels=hidden_units,\n",
    "                                                    kernel_size=3,\n",
    "                                                    stride=1,\n",
    "                                                    padding=0),\n",
    "                                          nn.ReLU(),\n",
    "                                          nn.Conv2d(in_channels=hidden_units,\n",
    "                                                    out_channels=hidden_units,\n",
    "                                                    kernel_size=3,\n",
    "                                                    stride=1,\n",
    "                                                    padding=0),\n",
    "                                          nn.ReLU(),\n",
    "                                          nn.MaxPool2d(kernel_size=2,\n",
    "                                                       stride=2))\n",
    "        self.conv_block_2 = nn.Sequential(nn.Conv2d(in_channels=hidden_units,\n",
    "                                                    out_channels=hidden_units,\n",
    "                                                    kernel_size=3,\n",
    "                                                    stride=1,\n",
    "                                                    padding=0),\n",
    "                                          nn.ReLU(),\n",
    "                                          nn.Conv2d(in_channels=hidden_units,\n",
    "                                                    out_channels=hidden_units,\n",
    "                                                    kernel_size=3,\n",
    "                                                    stride=1,\n",
    "                                                    padding=0),\n",
    "                                          nn.ReLU(),\n",
    "                                          nn.MaxPool2d(kernel_size=2,\n",
    "                                                       stride=2))\n",
    "        self.classifier = nn.Sequential(nn.Flatten(),\n",
    "                                        nn.Linear(in_features=hidden_units*13*13,\n",
    "                                                  out_features=output_shape))\n",
    "    def forward(self,x:torch.Tensor):\n",
    "        return self.classifier(self.conv_block_2(self.conv_block_1(x)))"
   ]
  },
  {
   "cell_type": "code",
   "execution_count": 5,
   "id": "58f9fcf2-a81f-4c56-af74-25bbf4cb2cf2",
   "metadata": {},
   "outputs": [],
   "source": [
    "import torch\n",
    "from going_modular import model_builder\n",
    "device = \"cuda\" if torch.cuda.is_available() else \"cpu\"\n",
    "torch.manual_seed(42)\n",
    "model = model_builder.TinyVGG(input_shape=3,\n",
    "                              hidden_units=10,\n",
    "                              output_shape=len(class_names)).to(device)"
   ]
  },
  {
   "cell_type": "markdown",
   "id": "fccd7fb4-ba5d-4161-bc2d-b61eda1ef94d",
   "metadata": {},
   "source": [
    "## 4. Creating `train_step()` and `test_step()` functions and `train()` to combine them"
   ]
  },
  {
   "cell_type": "code",
   "execution_count": 1,
   "id": "5879ee9f-3900-4854-9e41-99a55cf8b8ac",
   "metadata": {},
   "outputs": [
    {
     "name": "stdout",
     "output_type": "stream",
     "text": [
      "Writing going_modular/engine.py\n"
     ]
    }
   ],
   "source": [
    "%%writefile going_modular/engine.py\n",
    "\"\"\"\n",
    "Contains functions for training and testing a PyTorch Model\n",
    "\"\"\"\n",
    "import torch\n",
    "from tqdm import tqdm\n",
    "from typing import Dict, List, Tuple\n",
    "def train_step(model: torch.nn.Module,\n",
    "               dataloader: torch.utils.data.DataLoader,\n",
    "               loss_fn: torch.nn.Module,\n",
    "               optimizer: torch.optim.Optimizer,\n",
    "               device: torch.device) -> Tuple[float, float]:\n",
    "    \"\"\"Trains PyTorch model for a single epoch,\n",
    "\n",
    "    Turns a target PyTorch model to training mode and then runs through all of the required training steps (forwaard pass,loss calculation,optimizer step)\n",
    "    Args:\n",
    "        model: A PyTorch model to be trained\n",
    "        dataloader: A DataLoader instance for the model to be trained on.\n",
    "        loss_fn: A PyTorch loss function to minimize.\n",
    "        optimizer: A PyTorch optimizer to help minimize the loss function\n",
    "        device: A target device to compute on (eg: \"cuda\" or \"cpu\")\n",
    "    Returns:\n",
    "        A tuple of training loss and training accuracy metrics. In the form (train_loss, train_accuracy). For example:\n",
    "        (0.3244,0.8234)\n",
    "    \"\"\"\n",
    "    model.train()\n",
    "    train_loss, train_acc = 0,0\n",
    "    for batch,(X,y) in enumerate(dataloader):\n",
    "        X,y = X.to(device), y.to(device)\n",
    "        y_pred = model(X)\n",
    "        loss = loss_fn(y_pred, y)\n",
    "        train_loss += loss.item()\n",
    "        optimizer.zero_grad()\n",
    "        loss.backward()\n",
    "        optimizer.step()\n",
    "        y_pred_class = torch.argmax(torch.softmax(y_pred, dim=1), dim=1)\n",
    "        train_acc += (y_pred_class == y).sum().item()/len(y_pred)\n",
    "    train_loss /= len(dataloader)\n",
    "    train_acc /= len(dataloader)\n",
    "    return train_loss, train_acc\n",
    "\n",
    "def test_step(model: torch.nn.Module,\n",
    "              dataloader: torch.utils.data.DataLoader,\n",
    "              loss_fn: torch.nn.Module,\n",
    "              device: torch.device) -> Tuple[float, float]:\n",
    "    \"\"\"Tests a PyTorch model for a single epoch.\n",
    "    Turns a target PyTorch model to \"eval\" model and then performs a forward pass on a testing dataset.\n",
    "\n",
    "    Args:\n",
    "        model: A PyTorch model to be tested\n",
    "        dataloader: A DataLoader instance for the model to be tested on.\n",
    "        loss_fn: A PyTorch loss function to calculate loss on the test data.\n",
    "        device: A target device to compute on (eg: \"cuda\" or \"cpu\")\n",
    "    Returns:\n",
    "        A tuple of testing loss and testing accuracy metrics. In the form (test_loss, test_accuracy). For example:\n",
    "        (0.0234, 0.8343)\n",
    "    \"\"\"\n",
    "    model.eval()\n",
    "    test_loss, test_acc = 0,0\n",
    "    with torch.inference_mode():\n",
    "        for batch,(X,y) in enumerate(dataloader):\n",
    "            X,y = X.to(device), y.to(device)\n",
    "            test_pred_logits = model(X)\n",
    "            loss = loss_fn(test_pred_logits, y)\n",
    "            test_loss += loss.item()\n",
    "            test_pred_labels = test_pred_logits.argmax(dim=1)\n",
    "            test_acc += ((test_pred_labels == y).sum().item()/len(test_pred_labels))\n",
    "    test_loss /= len(dataloader)\n",
    "    test_acc /= len(dataloader)\n",
    "    return test_loss, test_acc\n",
    "\n",
    "def train(model: torch.nn.Module,\n",
    "          train_dataloader: torch.utils.data.DataLoader,\n",
    "          test_dataloader: torch.utils.data.DataLoader,\n",
    "          optimizer: torch.optim.Optimizer,\n",
    "          loss_fn: torch.nn.Module,\n",
    "          epochs: int,\n",
    "          device: torch.device) -> Dict[str, List]:\n",
    "    \"\"\"Trains and tests a PyTorch model.\n",
    "    Passes a target PyTorch models through train_step() and test_step() functions for a number of epochs, training and testing the model in the same epoch loop.\n",
    "    Calculates, prints and stores evalution metrics throughout.\n",
    "    Args:\n",
    "        model: A PyTorch model to be trained and tested\n",
    "        train_dataloader: A DataLoader instance for the model to be trained on.\n",
    "        test_dataloader: A DataLoader instance for the model to be tested on.\n",
    "        optimizer: A PyTorch optimizer to help minimize the loss function.\n",
    "        loss_fn: A PyTorch loss function to calculate loss on both datasets\n",
    "        epochs: An integer indicating how many epochs to train for.\n",
    "        device: A target device to compute on (eg: \"cuda\" or \"cpu\")\n",
    "    Returns:\n",
    "        A dictionary of training and testing loss as well as training and testing accuracy metrics. Each metric has a value in a list for each epoch\n",
    "        In the form: {train_loss: [...],\n",
    "                      train_acc: [...],\n",
    "                      test_loss: [...],\n",
    "                      test_acc: [...]}\n",
    "    \"\"\"\n",
    "    results = {\"train_loss\": [], \"train_acc\": [], \"test_loss\": [], \"test_acc\": []}\n",
    "    for epoch in tqdm(range(epochs)):\n",
    "        train_loss, train_acc = train_step(model,\n",
    "                                           dataloader=train_dataloader,\n",
    "                                           loss_fn=loss_fn,\n",
    "                                           optimizer=optimizer,\n",
    "                                           device=device)\n",
    "        test_loss, test_acc = test_step(model=model,\n",
    "                                        dataloder=test_dataloader,\n",
    "                                        loss_fn=loss_fn,\n",
    "                                        device=device)\n",
    "        print(f\"Epoch: {epoch+1} | \"\n",
    "        f\"train_loss: {train_loss:4.f} | \"\n",
    "        f\"train_acc: {train_acc:.4f} | \"\n",
    "        f\"test_loss: {test_loss:.4f} | \"\n",
    "        f\"test_acc: {test_acc:.4f}\")\n",
    "        results[\"train_loss\"].append(train_loss)\n",
    "        results[\"train_acc\"].append(train_acc)\n",
    "        results[\"test_loss\"].append(test_loss)\n",
    "        results[\"test_acc\"].append(test_acc)\n",
    "    return results"
   ]
  },
  {
   "cell_type": "markdown",
   "id": "43f8830a-bc48-40a6-a09e-daa0d987aa1f",
   "metadata": {},
   "source": [
    "## 5. Creating function to save the model (`utils.py`)"
   ]
  },
  {
   "cell_type": "code",
   "execution_count": 4,
   "id": "b753c127-9f3b-4939-ad89-69339f85954f",
   "metadata": {},
   "outputs": [
    {
     "name": "stdout",
     "output_type": "stream",
     "text": [
      "Overwriting going_modular/utils.py\n"
     ]
    }
   ],
   "source": [
    "%%writefile going_modular/utils.py\n",
    "\"\"\"\n",
    "Contains various utility functions for PyTorch model training and saving.\n",
    "\"\"\"\n",
    "import torch\n",
    "from pathlib import Path\n",
    "\n",
    "def save_model(model: torch.nn.Module,\n",
    "               target_dir: str,\n",
    "               model_name: str):\n",
    "  \"\"\"Saves a PyTorch model to a target directory.\n",
    "\n",
    "  Args:\n",
    "    model: A target PyTorch model to save.\n",
    "    target_dir: A directory for saving the model to.\n",
    "    model_name: A filename for the saved model. Should include\n",
    "      either \".pth\" or \".pt\" as the file extension.\n",
    "\n",
    "  Example usage:\n",
    "    save_model(model=model_0,\n",
    "               target_dir=\"models\",\n",
    "               model_name=\"05_going_modular_tingvgg_model.pth\")\n",
    "  \"\"\"\n",
    "  target_dir_path = Path(target_dir)\n",
    "  target_dir_path.mkdir(parents=True,\n",
    "                        exist_ok=True)\n",
    "\n",
    "  assert model_name.endswith(\".pth\") or model_name.endswith(\".pt\"), \"model_name should end with '.pt' or '.pth'\"\n",
    "  model_save_path = target_dir_path / model_name\n",
    "\n",
    "  print(f\"[INFO] Saving model to: {model_save_path}\")\n",
    "  torch.save(obj=model.state_dict(),\n",
    "             f=model_save_path)"
   ]
  },
  {
   "cell_type": "markdown",
   "id": "9136fda1-14b6-45cc-bd0a-d18cd82db655",
   "metadata": {},
   "source": [
    "## 6. Train, evaluate and save the model (`train.py`)"
   ]
  },
  {
   "cell_type": "code",
   "execution_count": 5,
   "id": "4f4ac625-2c7c-4090-af01-7ca3a863dd70",
   "metadata": {},
   "outputs": [
    {
     "name": "stdout",
     "output_type": "stream",
     "text": [
      "Overwriting going_modular/train.py\n"
     ]
    }
   ],
   "source": [
    "%%writefile going_modular/train.py\n",
    "\"\"\"\n",
    "Trains a PyTorch image classification model using device-agnostic code.\n",
    "\"\"\"\n",
    "\n",
    "import os\n",
    "import torch\n",
    "import data_setup, engine, model_builder, utils\n",
    "\n",
    "from torchvision import transforms\n",
    "\n",
    "NUM_EPOCHS = 5\n",
    "BATCH_SIZE = 32\n",
    "HIDDEN_UNITS = 10\n",
    "LEARNING_RATE = 0.001\n",
    "\n",
    "train_dir = \"data/pizza_steak_sushi/train\"\n",
    "test_dir = \"data/pizza_steak_sushi/test\"\n",
    "\n",
    "device = \"cuda\" if torch.cuda.is_available() else \"cpu\"\n",
    "\n",
    "data_transform = transforms.Compose([\n",
    "  transforms.Resize((64, 64)),\n",
    "  transforms.ToTensor()\n",
    "])\n",
    "\n",
    "train_dataloader, test_dataloader, class_names = data_setup.create_dataloaders(\n",
    "    train_dir=train_dir,\n",
    "    test_dir=test_dir,\n",
    "    transform=data_transform,\n",
    "    batch_size=BATCH_SIZE\n",
    ")\n",
    "\n",
    "model = model_builder.TinyVGG(\n",
    "    input_shape=3,\n",
    "    hidden_units=HIDDEN_UNITS,\n",
    "    output_shape=len(class_names)\n",
    ").to(device)\n",
    "\n",
    "loss_fn = torch.nn.CrossEntropyLoss()\n",
    "optimizer = torch.optim.Adam(model.parameters(),\n",
    "                             lr=LEARNING_RATE)\n",
    "\n",
    "engine.train(model=model,\n",
    "             train_dataloader=train_dataloader,\n",
    "             test_dataloader=test_dataloader,\n",
    "             loss_fn=loss_fn,\n",
    "             optimizer=optimizer,\n",
    "             epochs=NUM_EPOCHS,\n",
    "             device=device)\n",
    "\n",
    "utils.save_model(model=model,\n",
    "                 target_dir=\"models\",\n",
    "                 model_name=\"05_going_modular_script_mode_tinyvgg_model.pth\")"
   ]
  },
  {
   "cell_type": "code",
   "execution_count": null,
   "id": "f85b579f-2a4f-4091-adbd-5754d485930e",
   "metadata": {},
   "outputs": [],
   "source": []
  }
 ],
 "metadata": {
  "kernelspec": {
   "display_name": "python pytorch",
   "language": "python",
   "name": "venv_pytorch"
  },
  "language_info": {
   "codemirror_mode": {
    "name": "ipython",
    "version": 3
   },
   "file_extension": ".py",
   "mimetype": "text/x-python",
   "name": "python",
   "nbconvert_exporter": "python",
   "pygments_lexer": "ipython3",
   "version": "3.10.7"
  }
 },
 "nbformat": 4,
 "nbformat_minor": 5
}
