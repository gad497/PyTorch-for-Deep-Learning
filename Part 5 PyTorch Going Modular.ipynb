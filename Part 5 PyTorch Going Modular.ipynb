{
 "cells": [
  {
   "cell_type": "markdown",
   "id": "990b3c8c-86f5-4760-8769-ec3ac490a835",
   "metadata": {},
   "source": [
    "## 1. Get data"
   ]
  },
  {
   "cell_type": "code",
   "execution_count": 1,
   "id": "ead91684-b18e-46a8-98eb-54bbe6afe258",
   "metadata": {},
   "outputs": [
    {
     "name": "stdout",
     "output_type": "stream",
     "text": [
      "data\\pizza_steak_sushi directory exists.\n"
     ]
    }
   ],
   "source": [
    "import os\n",
    "import requests\n",
    "import zipfile\n",
    "from pathlib import Path\n",
    "\n",
    "data_path = Path(\"data/\")\n",
    "image_path = data_path / \"pizza_steak_sushi\"\n",
    "if image_path.is_dir():\n",
    "    print(f\"{image_path} directory exists.\")\n",
    "else:\n",
    "    print(f\"Did not find directory {image_path}. Creating one...\")\n",
    "    image_path.mkdir(parents=True, exist_ok=True)\n",
    "    with open(data_path/\"pizza_steak_sushi.zip\",\"wb\") as f:\n",
    "        request = requests.get(\"https://github.com/mrdbourke/pytorch-deep-learning/raw/main/data/pizza_steak_sushi.zip\")\n",
    "        print(\"Downloading data...\")\n",
    "        f.write(request.content)\n",
    "    with zipfile.ZipFile(data_path/\"pizza_steak_sushi.zip\",\"r\") as zip_ref:\n",
    "        print(\"unzipping data...\")\n",
    "        zip_ref.extractall(image_path)\n",
    "    os.remove(data_path/\"pizza_steak_sushi.zip\")"
   ]
  },
  {
   "cell_type": "markdown",
   "id": "142b44bd-bb79-4898-94ab-b51f554ff780",
   "metadata": {},
   "source": [
    "## 2. Create Datasets and DataLoaders (`data_setup.py`)"
   ]
  },
  {
   "cell_type": "code",
   "execution_count": 2,
   "id": "9a1576eb-5d72-459a-ac59-16c7328a3aee",
   "metadata": {},
   "outputs": [
    {
     "name": "stdout",
     "output_type": "stream",
     "text": [
      "Overwriting going_modular/data_setup.py\n"
     ]
    }
   ],
   "source": [
    "%%writefile going_modular/data_setup.py\n",
    "\"\"\"\n",
    "Contains functionality for creating PyTorch DataLoaders for image classification data.\n",
    "\"\"\"\n",
    "import os\n",
    "from torchvision import datasets, transforms\n",
    "from torch.utils.data import DataLoader\n",
    "\n",
    "NUM_WORKERS = os.cpu_count()\n",
    "\n",
    "def create_dataloader(train_dir: str,\n",
    "                      test_dir: str,\n",
    "                      transform: transforms.Compose,\n",
    "                      batch_size: int,\n",
    "                      num_workers: int = NUM_WORKERS):\n",
    "    \"\"\"Creates training and testing DataLoaders.\n",
    "    Takes in a training directory and testing directory path and turns them into PyTorch Datasets and then into PyTorch DataLoaders.\n",
    "    Args:\n",
    "        train_dir: Path to training directory\n",
    "        test_dir: Path to testing directory\n",
    "        transform: torchvision transforms to perform on training and testing data\n",
    "        batch_size: number of samples per batch in each of the DataLoaders.\n",
    "        num_workers: An integer for number of workers per DataLoader\n",
    "    Returns:\n",
    "        A Tuple of (train_dataloader, test_dataloader, class_names)\n",
    "        Where class_names is a list of target classes.\n",
    "    Example usage:\n",
    "        train_dataloader, test_dataloader, class_names = create_dataloader(train_dir=path/to/train_dir,\n",
    "                                                                           test_dir=path/to/test_dir,\n",
    "                                                                           transform=transforms.ToTensor(),\n",
    "                                                                           batch_size=32,\n",
    "                                                                           num_workers=4)\n",
    "    \"\"\"\n",
    "    train_data = datasets.ImageFolder(train_dir, transform=transform)\n",
    "    test_data = datasets.ImageFolder(test_dir, transform=transform)\n",
    "    class_names = train_data.classes\n",
    "    train_dataloader = DataLoader(train_data,\n",
    "                                  batch_size=batch_size,\n",
    "                                  shuffle=True,\n",
    "                                  num_workers=num_workers,\n",
    "                                  pin_memory=True)\n",
    "    test_dataloader = DataLoader(test_data,\n",
    "                                 batch_size=batch_size,\n",
    "                                 shuffle=False,\n",
    "                                 num_workers=num_workers,\n",
    "                                 pin_memory=True)\n",
    "    return train_dataloader, test_dataloader, class_names"
   ]
  },
  {
   "cell_type": "code",
   "execution_count": 3,
   "id": "436d662f-ad5e-4663-b1d6-b43c081c584b",
   "metadata": {},
   "outputs": [],
   "source": [
    "from going_modular import data_setup\n",
    "from torchvision import transforms\n",
    "train_dataloader, test_dataloader, class_names = data_setup.create_dataloader(image_path/\"train\",\n",
    "                                                                               image_path/\"test\",\n",
    "                                                                               transform=transforms.ToTensor(),\n",
    "                                                                               batch_size=32)"
   ]
  },
  {
   "cell_type": "markdown",
   "id": "5c154c82-aa48-49a4-ad03-a1a4f1f3cec3",
   "metadata": {},
   "source": [
    "## Making a model (`model_builder.py`)"
   ]
  },
  {
   "cell_type": "code",
   "execution_count": 4,
   "id": "456895b0-e784-4b17-bb9f-d2485aeea39c",
   "metadata": {},
   "outputs": [
    {
     "name": "stdout",
     "output_type": "stream",
     "text": [
      "Overwriting going_modular/model_builder.py\n"
     ]
    }
   ],
   "source": [
    "%%writefile going_modular/model_builder.py\n",
    "\"\"\"\n",
    "Contains PyTorch model code to instantiate a TinyVGG model\n",
    "\"\"\"\n",
    "import torch\n",
    "from torch import nn\n",
    "\n",
    "class TinyVGG(nn.Module):\n",
    "    \"\"\"Creates the TinyVGG architecture\n",
    "    Replicates the TinyVGG architecture from the CNN explainer website in PyTorch\n",
    "    Args:\n",
    "        input_shape: An integer indicating number of input channels\n",
    "        hidden_units: An integer indicating number of hidden units between layers.\n",
    "        output_shape: An integer indicating number of output units.\n",
    "    \"\"\"\n",
    "    def __init__(self,input_shape:int,hidden_units:int,output_shape:int):\n",
    "        super().__init__()\n",
    "        self.conv_block_1 = nn.Sequential(nn.Conv2d(in_channels=input_shape,\n",
    "                                                    out_channels=hidden_units,\n",
    "                                                    kernel_size=3,\n",
    "                                                    stride=1,\n",
    "                                                    padding=0),\n",
    "                                          nn.ReLU(),\n",
    "                                          nn.Conv2d(in_channels=hidden_units,\n",
    "                                                    out_channels=hidden_units,\n",
    "                                                    kernel_size=3,\n",
    "                                                    stride=1,\n",
    "                                                    padding=0),\n",
    "                                          nn.ReLU(),\n",
    "                                          nn.MaxPool2d(kernel_size=2,\n",
    "                                                       stride=2))\n",
    "        self.conv_block_2 = nn.Sequential(nn.Conv2d(in_channels=hidden_units,\n",
    "                                                    out_channels=hidden_units,\n",
    "                                                    kernel_size=3,\n",
    "                                                    stride=1,\n",
    "                                                    padding=0),\n",
    "                                          nn.ReLU(),\n",
    "                                          nn.Conv2d(in_channels=hidden_units,\n",
    "                                                    out_channels=hidden_units,\n",
    "                                                    kernel_size=3,\n",
    "                                                    stride=1,\n",
    "                                                    padding=0),\n",
    "                                          nn.ReLU(),\n",
    "                                          nn.MaxPool2d(kernel_size=2,\n",
    "                                                       stride=2))\n",
    "        self.classifier = nn.Sequential(nn.Flatten(),\n",
    "                                        nn.Linear(in_features=hidden_units*13*13,\n",
    "                                                  out_features=output_shape))\n",
    "    def forward(self,x:torch.Tensor):\n",
    "        return self.classifier(self.conv_block_2(self.conv_block_1(x)))"
   ]
  },
  {
   "cell_type": "code",
   "execution_count": 5,
   "id": "58f9fcf2-a81f-4c56-af74-25bbf4cb2cf2",
   "metadata": {},
   "outputs": [],
   "source": [
    "import torch\n",
    "from going_modular import model_builder\n",
    "device = \"cuda\" if torch.cuda.is_available() else \"cpu\"\n",
    "torch.manual_seed(42)\n",
    "model = model_builder.TinyVGG(input_shape=3,\n",
    "                              hidden_units=10,\n",
    "                              output_shape=len(class_names)).to(device)"
   ]
  },
  {
   "cell_type": "code",
   "execution_count": 6,
   "id": "20bd4d9f-97a8-4114-b30f-ee3e11d12670",
   "metadata": {},
   "outputs": [],
   "source": [
    "import torch\n",
    "from going_modular import model_builder\n",
    "device = \"cuda\" if torch.cuda.is_available() else \"cpu\"\n",
    "torch.manual_seed(42)\n",
    "model = model_builder.TinyVGG(input_shape=3,\n",
    "                              hidden_units=10,\n",
    "                              output_shape=len(class_names)).to(device)"
   ]
  },
  {
   "cell_type": "code",
   "execution_count": null,
   "id": "5879ee9f-3900-4854-9e41-99a55cf8b8ac",
   "metadata": {},
   "outputs": [],
   "source": []
  }
 ],
 "metadata": {
  "kernelspec": {
   "display_name": "python pytorch",
   "language": "python",
   "name": "venv_pytorch"
  },
  "language_info": {
   "codemirror_mode": {
    "name": "ipython",
    "version": 3
   },
   "file_extension": ".py",
   "mimetype": "text/x-python",
   "name": "python",
   "nbconvert_exporter": "python",
   "pygments_lexer": "ipython3",
   "version": "3.10.7"
  }
 },
 "nbformat": 4,
 "nbformat_minor": 5
}
